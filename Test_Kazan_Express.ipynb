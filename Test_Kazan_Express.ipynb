{
 "cells": [
  {
   "cell_type": "code",
   "execution_count": 133,
   "id": "9cb837a2",
   "metadata": {},
   "outputs": [
    {
     "name": "stdout",
     "output_type": "stream",
     "text": [
      "Requirement already satisfied: catboost in c:\\programdata\\anaconda3\\envs\\catboost\\lib\\site-packages (1.0.5)\n",
      "Requirement already satisfied: plotly in c:\\programdata\\anaconda3\\envs\\catboost\\lib\\site-packages (from catboost) (5.7.0)\n",
      "Requirement already satisfied: scipy in c:\\programdata\\anaconda3\\envs\\catboost\\lib\\site-packages (from catboost) (1.8.0)\n",
      "Requirement already satisfied: pandas>=0.24.0 in c:\\programdata\\anaconda3\\envs\\catboost\\lib\\site-packages (from catboost) (1.4.2)\n",
      "Requirement already satisfied: graphviz in c:\\programdata\\anaconda3\\envs\\catboost\\lib\\site-packages (from catboost) (0.19.2)\n",
      "Requirement already satisfied: numpy>=1.16.0 in c:\\programdata\\anaconda3\\envs\\catboost\\lib\\site-packages (from catboost) (1.22.3)\n",
      "Requirement already satisfied: six in c:\\programdata\\anaconda3\\envs\\catboost\\lib\\site-packages (from catboost) (1.16.0)\n",
      "Requirement already satisfied: matplotlib in c:\\programdata\\anaconda3\\envs\\catboost\\lib\\site-packages (from catboost) (3.5.1)\n",
      "Requirement already satisfied: pytz>=2020.1 in c:\\programdata\\anaconda3\\envs\\catboost\\lib\\site-packages (from pandas>=0.24.0->catboost) (2022.1)\n",
      "Requirement already satisfied: python-dateutil>=2.8.1 in c:\\programdata\\anaconda3\\envs\\catboost\\lib\\site-packages (from pandas>=0.24.0->catboost) (2.8.2)\n",
      "Requirement already satisfied: pyparsing>=2.2.1 in c:\\programdata\\anaconda3\\envs\\catboost\\lib\\site-packages (from matplotlib->catboost) (3.0.8)\n",
      "Requirement already satisfied: fonttools>=4.22.0 in c:\\programdata\\anaconda3\\envs\\catboost\\lib\\site-packages (from matplotlib->catboost) (4.32.0)\n",
      "Requirement already satisfied: packaging>=20.0 in c:\\programdata\\anaconda3\\envs\\catboost\\lib\\site-packages (from matplotlib->catboost) (21.3)\n",
      "Requirement already satisfied: cycler>=0.10 in c:\\programdata\\anaconda3\\envs\\catboost\\lib\\site-packages (from matplotlib->catboost) (0.11.0)\n",
      "Requirement already satisfied: pillow>=6.2.0 in c:\\programdata\\anaconda3\\envs\\catboost\\lib\\site-packages (from matplotlib->catboost) (9.1.0)\n",
      "Requirement already satisfied: kiwisolver>=1.0.1 in c:\\programdata\\anaconda3\\envs\\catboost\\lib\\site-packages (from matplotlib->catboost) (1.4.2)\n",
      "Requirement already satisfied: tenacity>=6.2.0 in c:\\programdata\\anaconda3\\envs\\catboost\\lib\\site-packages (from plotly->catboost) (8.0.1)\n",
      "Requirement already satisfied: graphviz in c:\\programdata\\anaconda3\\envs\\catboost\\lib\\site-packages (0.19.2)\n",
      "Requirement already satisfied: pydot in c:\\programdata\\anaconda3\\envs\\catboost\\lib\\site-packages (1.4.2)\n",
      "Requirement already satisfied: pyparsing>=2.1.4 in c:\\programdata\\anaconda3\\envs\\catboost\\lib\\site-packages (from pydot) (3.0.8)\n",
      "Requirement already satisfied: pyvis in c:\\programdata\\anaconda3\\envs\\catboost\\lib\\site-packages (0.2.0)\n",
      "Requirement already satisfied: ipython>=5.3.0 in c:\\programdata\\anaconda3\\envs\\catboost\\lib\\site-packages (from pyvis) (8.2.0)\n",
      "Requirement already satisfied: jsonpickle>=1.4.1 in c:\\programdata\\anaconda3\\envs\\catboost\\lib\\site-packages (from pyvis) (2.1.0)\n",
      "Requirement already satisfied: networkx>=1.11 in c:\\programdata\\anaconda3\\envs\\catboost\\lib\\site-packages (from pyvis) (2.8)\n",
      "Requirement already satisfied: jinja2>=2.9.6 in c:\\programdata\\anaconda3\\envs\\catboost\\lib\\site-packages (from pyvis) (3.1.1)\n",
      "Requirement already satisfied: setuptools>=18.5 in c:\\programdata\\anaconda3\\envs\\catboost\\lib\\site-packages (from ipython>=5.3.0->pyvis) (61.2.0)\n",
      "Requirement already satisfied: stack-data in c:\\programdata\\anaconda3\\envs\\catboost\\lib\\site-packages (from ipython>=5.3.0->pyvis) (0.2.0)\n",
      "Requirement already satisfied: traitlets>=5 in c:\\programdata\\anaconda3\\envs\\catboost\\lib\\site-packages (from ipython>=5.3.0->pyvis) (5.1.1)\n",
      "Requirement already satisfied: matplotlib-inline in c:\\programdata\\anaconda3\\envs\\catboost\\lib\\site-packages (from ipython>=5.3.0->pyvis) (0.1.3)\n",
      "Requirement already satisfied: decorator in c:\\programdata\\anaconda3\\envs\\catboost\\lib\\site-packages (from ipython>=5.3.0->pyvis) (5.1.1)\n",
      "Requirement already satisfied: prompt-toolkit!=3.0.0,!=3.0.1,<3.1.0,>=2.0.0 in c:\\programdata\\anaconda3\\envs\\catboost\\lib\\site-packages (from ipython>=5.3.0->pyvis) (3.0.29)\n",
      "Requirement already satisfied: colorama in c:\\programdata\\anaconda3\\envs\\catboost\\lib\\site-packages (from ipython>=5.3.0->pyvis) (0.4.4)\n",
      "Requirement already satisfied: pygments>=2.4.0 in c:\\programdata\\anaconda3\\envs\\catboost\\lib\\site-packages (from ipython>=5.3.0->pyvis) (2.11.2)\n",
      "Requirement already satisfied: backcall in c:\\programdata\\anaconda3\\envs\\catboost\\lib\\site-packages (from ipython>=5.3.0->pyvis) (0.2.0)\n",
      "Requirement already satisfied: pickleshare in c:\\programdata\\anaconda3\\envs\\catboost\\lib\\site-packages (from ipython>=5.3.0->pyvis) (0.7.5)\n",
      "Requirement already satisfied: jedi>=0.16 in c:\\programdata\\anaconda3\\envs\\catboost\\lib\\site-packages (from ipython>=5.3.0->pyvis) (0.18.1)\n",
      "Requirement already satisfied: parso<0.9.0,>=0.8.0 in c:\\programdata\\anaconda3\\envs\\catboost\\lib\\site-packages (from jedi>=0.16->ipython>=5.3.0->pyvis) (0.8.3)\n",
      "Requirement already satisfied: MarkupSafe>=2.0 in c:\\programdata\\anaconda3\\envs\\catboost\\lib\\site-packages (from jinja2>=2.9.6->pyvis) (2.1.1)\n",
      "Requirement already satisfied: wcwidth in c:\\programdata\\anaconda3\\envs\\catboost\\lib\\site-packages (from prompt-toolkit!=3.0.0,!=3.0.1,<3.1.0,>=2.0.0->ipython>=5.3.0->pyvis) (0.2.5)\n",
      "Requirement already satisfied: asttokens in c:\\programdata\\anaconda3\\envs\\catboost\\lib\\site-packages (from stack-data->ipython>=5.3.0->pyvis) (2.0.5)\n",
      "Requirement already satisfied: pure-eval in c:\\programdata\\anaconda3\\envs\\catboost\\lib\\site-packages (from stack-data->ipython>=5.3.0->pyvis) (0.2.2)\n",
      "Requirement already satisfied: executing in c:\\programdata\\anaconda3\\envs\\catboost\\lib\\site-packages (from stack-data->ipython>=5.3.0->pyvis) (0.8.3)\n",
      "Requirement already satisfied: six in c:\\programdata\\anaconda3\\envs\\catboost\\lib\\site-packages (from asttokens->stack-data->ipython>=5.3.0->pyvis) (1.16.0)\n",
      "Requirement already satisfied: pycairo in c:\\programdata\\anaconda3\\envs\\catboost\\lib\\site-packages (1.21.0)\n",
      "Requirement already satisfied: scikit-learn in c:\\programdata\\anaconda3\\envs\\catboost\\lib\\site-packages (1.0.2)\n",
      "Requirement already satisfied: scipy>=1.1.0 in c:\\programdata\\anaconda3\\envs\\catboost\\lib\\site-packages (from scikit-learn) (1.8.0)\n",
      "Requirement already satisfied: joblib>=0.11 in c:\\programdata\\anaconda3\\envs\\catboost\\lib\\site-packages (from scikit-learn) (1.1.0)\n",
      "Requirement already satisfied: threadpoolctl>=2.0.0 in c:\\programdata\\anaconda3\\envs\\catboost\\lib\\site-packages (from scikit-learn) (3.1.0)\n",
      "Requirement already satisfied: numpy>=1.14.6 in c:\\programdata\\anaconda3\\envs\\catboost\\lib\\site-packages (from scikit-learn) (1.22.3)\n",
      "Requirement already satisfied: ipywidgets in c:\\programdata\\anaconda3\\envs\\catboost\\lib\\site-packages (7.7.0)\n",
      "Requirement already satisfied: ipython-genutils~=0.2.0 in c:\\programdata\\anaconda3\\envs\\catboost\\lib\\site-packages (from ipywidgets) (0.2.0)\n",
      "Requirement already satisfied: traitlets>=4.3.1 in c:\\programdata\\anaconda3\\envs\\catboost\\lib\\site-packages (from ipywidgets) (5.1.1)\n",
      "Requirement already satisfied: jupyterlab-widgets>=1.0.0 in c:\\programdata\\anaconda3\\envs\\catboost\\lib\\site-packages (from ipywidgets) (1.1.0)\n",
      "Requirement already satisfied: ipykernel>=4.5.1 in c:\\programdata\\anaconda3\\envs\\catboost\\lib\\site-packages (from ipywidgets) (6.13.0)\n",
      "Requirement already satisfied: widgetsnbextension~=3.6.0 in c:\\programdata\\anaconda3\\envs\\catboost\\lib\\site-packages (from ipywidgets) (3.6.0)\n",
      "Requirement already satisfied: ipython>=4.0.0 in c:\\programdata\\anaconda3\\envs\\catboost\\lib\\site-packages (from ipywidgets) (8.2.0)\n",
      "Requirement already satisfied: nbformat>=4.2.0 in c:\\programdata\\anaconda3\\envs\\catboost\\lib\\site-packages (from ipywidgets) (5.3.0)\n",
      "Requirement already satisfied: jupyter-client>=6.1.12 in c:\\programdata\\anaconda3\\envs\\catboost\\lib\\site-packages (from ipykernel>=4.5.1->ipywidgets) (7.2.2)\n",
      "Requirement already satisfied: debugpy>=1.0 in c:\\programdata\\anaconda3\\envs\\catboost\\lib\\site-packages (from ipykernel>=4.5.1->ipywidgets) (1.6.0)\n",
      "Requirement already satisfied: matplotlib-inline>=0.1 in c:\\programdata\\anaconda3\\envs\\catboost\\lib\\site-packages (from ipykernel>=4.5.1->ipywidgets) (0.1.3)\n",
      "Requirement already satisfied: psutil in c:\\programdata\\anaconda3\\envs\\catboost\\lib\\site-packages (from ipykernel>=4.5.1->ipywidgets) (5.9.0)\n",
      "Requirement already satisfied: packaging in c:\\programdata\\anaconda3\\envs\\catboost\\lib\\site-packages (from ipykernel>=4.5.1->ipywidgets) (21.3)\n",
      "Requirement already satisfied: nest-asyncio in c:\\programdata\\anaconda3\\envs\\catboost\\lib\\site-packages (from ipykernel>=4.5.1->ipywidgets) (1.5.5)\n",
      "Requirement already satisfied: tornado>=6.1 in c:\\programdata\\anaconda3\\envs\\catboost\\lib\\site-packages (from ipykernel>=4.5.1->ipywidgets) (6.1)\n",
      "Requirement already satisfied: prompt-toolkit!=3.0.0,!=3.0.1,<3.1.0,>=2.0.0 in c:\\programdata\\anaconda3\\envs\\catboost\\lib\\site-packages (from ipython>=4.0.0->ipywidgets) (3.0.29)\n",
      "Requirement already satisfied: colorama in c:\\programdata\\anaconda3\\envs\\catboost\\lib\\site-packages (from ipython>=4.0.0->ipywidgets) (0.4.4)\n",
      "Requirement already satisfied: jedi>=0.16 in c:\\programdata\\anaconda3\\envs\\catboost\\lib\\site-packages (from ipython>=4.0.0->ipywidgets) (0.18.1)\n",
      "Requirement already satisfied: decorator in c:\\programdata\\anaconda3\\envs\\catboost\\lib\\site-packages (from ipython>=4.0.0->ipywidgets) (5.1.1)\n",
      "Requirement already satisfied: setuptools>=18.5 in c:\\programdata\\anaconda3\\envs\\catboost\\lib\\site-packages (from ipython>=4.0.0->ipywidgets) (61.2.0)\n",
      "Requirement already satisfied: backcall in c:\\programdata\\anaconda3\\envs\\catboost\\lib\\site-packages (from ipython>=4.0.0->ipywidgets) (0.2.0)\n",
      "Requirement already satisfied: pickleshare in c:\\programdata\\anaconda3\\envs\\catboost\\lib\\site-packages (from ipython>=4.0.0->ipywidgets) (0.7.5)\n",
      "Requirement already satisfied: stack-data in c:\\programdata\\anaconda3\\envs\\catboost\\lib\\site-packages (from ipython>=4.0.0->ipywidgets) (0.2.0)\n",
      "Requirement already satisfied: pygments>=2.4.0 in c:\\programdata\\anaconda3\\envs\\catboost\\lib\\site-packages (from ipython>=4.0.0->ipywidgets) (2.11.2)\n",
      "Requirement already satisfied: parso<0.9.0,>=0.8.0 in c:\\programdata\\anaconda3\\envs\\catboost\\lib\\site-packages (from jedi>=0.16->ipython>=4.0.0->ipywidgets) (0.8.3)\n",
      "Requirement already satisfied: jupyter-core>=4.9.2 in c:\\programdata\\anaconda3\\envs\\catboost\\lib\\site-packages (from jupyter-client>=6.1.12->ipykernel>=4.5.1->ipywidgets) (4.9.2)\n",
      "Requirement already satisfied: entrypoints in c:\\programdata\\anaconda3\\envs\\catboost\\lib\\site-packages (from jupyter-client>=6.1.12->ipykernel>=4.5.1->ipywidgets) (0.4)\n",
      "Requirement already satisfied: python-dateutil>=2.8.2 in c:\\programdata\\anaconda3\\envs\\catboost\\lib\\site-packages (from jupyter-client>=6.1.12->ipykernel>=4.5.1->ipywidgets) (2.8.2)\n",
      "Requirement already satisfied: pyzmq>=22.3 in c:\\programdata\\anaconda3\\envs\\catboost\\lib\\site-packages (from jupyter-client>=6.1.12->ipykernel>=4.5.1->ipywidgets) (22.3.0)\n",
      "Requirement already satisfied: pywin32>=1.0 in c:\\programdata\\anaconda3\\envs\\catboost\\lib\\site-packages (from jupyter-core>=4.9.2->jupyter-client>=6.1.12->ipykernel>=4.5.1->ipywidgets) (303)\n",
      "Requirement already satisfied: fastjsonschema in c:\\programdata\\anaconda3\\envs\\catboost\\lib\\site-packages (from nbformat>=4.2.0->ipywidgets) (2.15.3)\n",
      "Requirement already satisfied: jsonschema>=2.6 in c:\\programdata\\anaconda3\\envs\\catboost\\lib\\site-packages (from nbformat>=4.2.0->ipywidgets) (4.4.0)\n",
      "Requirement already satisfied: importlib-resources>=1.4.0 in c:\\programdata\\anaconda3\\envs\\catboost\\lib\\site-packages (from jsonschema>=2.6->nbformat>=4.2.0->ipywidgets) (5.7.0)\n",
      "Requirement already satisfied: attrs>=17.4.0 in c:\\programdata\\anaconda3\\envs\\catboost\\lib\\site-packages (from jsonschema>=2.6->nbformat>=4.2.0->ipywidgets) (21.4.0)\n",
      "Requirement already satisfied: pyrsistent!=0.17.0,!=0.17.1,!=0.17.2,>=0.14.0 in c:\\programdata\\anaconda3\\envs\\catboost\\lib\\site-packages (from jsonschema>=2.6->nbformat>=4.2.0->ipywidgets) (0.18.1)\n",
      "Requirement already satisfied: zipp>=3.1.0 in c:\\programdata\\anaconda3\\envs\\catboost\\lib\\site-packages (from importlib-resources>=1.4.0->jsonschema>=2.6->nbformat>=4.2.0->ipywidgets) (3.8.0)\n",
      "Requirement already satisfied: wcwidth in c:\\programdata\\anaconda3\\envs\\catboost\\lib\\site-packages (from prompt-toolkit!=3.0.0,!=3.0.1,<3.1.0,>=2.0.0->ipython>=4.0.0->ipywidgets) (0.2.5)\n",
      "Requirement already satisfied: six>=1.5 in c:\\programdata\\anaconda3\\envs\\catboost\\lib\\site-packages (from python-dateutil>=2.8.2->jupyter-client>=6.1.12->ipykernel>=4.5.1->ipywidgets) (1.16.0)\n",
      "Requirement already satisfied: notebook>=4.4.1 in c:\\programdata\\anaconda3\\envs\\catboost\\lib\\site-packages (from widgetsnbextension~=3.6.0->ipywidgets) (6.4.10)\n",
      "Requirement already satisfied: terminado>=0.8.3 in c:\\programdata\\anaconda3\\envs\\catboost\\lib\\site-packages (from notebook>=4.4.1->widgetsnbextension~=3.6.0->ipywidgets) (0.13.3)\n",
      "Requirement already satisfied: Send2Trash>=1.8.0 in c:\\programdata\\anaconda3\\envs\\catboost\\lib\\site-packages (from notebook>=4.4.1->widgetsnbextension~=3.6.0->ipywidgets) (1.8.0)\n",
      "Requirement already satisfied: nbconvert>=5 in c:\\programdata\\anaconda3\\envs\\catboost\\lib\\site-packages (from notebook>=4.4.1->widgetsnbextension~=3.6.0->ipywidgets) (6.5.0)\n",
      "Requirement already satisfied: prometheus-client in c:\\programdata\\anaconda3\\envs\\catboost\\lib\\site-packages (from notebook>=4.4.1->widgetsnbextension~=3.6.0->ipywidgets) (0.14.1)\n",
      "Requirement already satisfied: argon2-cffi in c:\\programdata\\anaconda3\\envs\\catboost\\lib\\site-packages (from notebook>=4.4.1->widgetsnbextension~=3.6.0->ipywidgets) (21.3.0)\n",
      "Requirement already satisfied: jinja2 in c:\\programdata\\anaconda3\\envs\\catboost\\lib\\site-packages (from notebook>=4.4.1->widgetsnbextension~=3.6.0->ipywidgets) (3.1.1)\n",
      "Requirement already satisfied: tinycss2 in c:\\programdata\\anaconda3\\envs\\catboost\\lib\\site-packages (from nbconvert>=5->notebook>=4.4.1->widgetsnbextension~=3.6.0->ipywidgets) (1.1.1)\n",
      "Requirement already satisfied: mistune<2,>=0.8.1 in c:\\programdata\\anaconda3\\envs\\catboost\\lib\\site-packages (from nbconvert>=5->notebook>=4.4.1->widgetsnbextension~=3.6.0->ipywidgets) (0.8.4)\n",
      "Requirement already satisfied: bleach in c:\\programdata\\anaconda3\\envs\\catboost\\lib\\site-packages (from nbconvert>=5->notebook>=4.4.1->widgetsnbextension~=3.6.0->ipywidgets) (5.0.0)\n",
      "Requirement already satisfied: jupyterlab-pygments in c:\\programdata\\anaconda3\\envs\\catboost\\lib\\site-packages (from nbconvert>=5->notebook>=4.4.1->widgetsnbextension~=3.6.0->ipywidgets) (0.2.1)\n",
      "Requirement already satisfied: beautifulsoup4 in c:\\programdata\\anaconda3\\envs\\catboost\\lib\\site-packages (from nbconvert>=5->notebook>=4.4.1->widgetsnbextension~=3.6.0->ipywidgets) (4.11.1)\n",
      "Requirement already satisfied: MarkupSafe>=2.0 in c:\\programdata\\anaconda3\\envs\\catboost\\lib\\site-packages (from nbconvert>=5->notebook>=4.4.1->widgetsnbextension~=3.6.0->ipywidgets) (2.1.1)\n",
      "Requirement already satisfied: defusedxml in c:\\programdata\\anaconda3\\envs\\catboost\\lib\\site-packages (from nbconvert>=5->notebook>=4.4.1->widgetsnbextension~=3.6.0->ipywidgets) (0.7.1)\n",
      "Requirement already satisfied: pandocfilters>=1.4.1 in c:\\programdata\\anaconda3\\envs\\catboost\\lib\\site-packages (from nbconvert>=5->notebook>=4.4.1->widgetsnbextension~=3.6.0->ipywidgets) (1.5.0)\n",
      "Requirement already satisfied: nbclient>=0.5.0 in c:\\programdata\\anaconda3\\envs\\catboost\\lib\\site-packages (from nbconvert>=5->notebook>=4.4.1->widgetsnbextension~=3.6.0->ipywidgets) (0.6.0)\n",
      "Requirement already satisfied: pywinpty>=1.1.0 in c:\\programdata\\anaconda3\\envs\\catboost\\lib\\site-packages (from terminado>=0.8.3->notebook>=4.4.1->widgetsnbextension~=3.6.0->ipywidgets) (2.0.5)\n",
      "Requirement already satisfied: argon2-cffi-bindings in c:\\programdata\\anaconda3\\envs\\catboost\\lib\\site-packages (from argon2-cffi->notebook>=4.4.1->widgetsnbextension~=3.6.0->ipywidgets) (21.2.0)\n",
      "Requirement already satisfied: cffi>=1.0.1 in c:\\programdata\\anaconda3\\envs\\catboost\\lib\\site-packages (from argon2-cffi-bindings->argon2-cffi->notebook>=4.4.1->widgetsnbextension~=3.6.0->ipywidgets) (1.15.0)\n",
      "Requirement already satisfied: pycparser in c:\\programdata\\anaconda3\\envs\\catboost\\lib\\site-packages (from cffi>=1.0.1->argon2-cffi-bindings->argon2-cffi->notebook>=4.4.1->widgetsnbextension~=3.6.0->ipywidgets) (2.21)\n",
      "Requirement already satisfied: soupsieve>1.2 in c:\\programdata\\anaconda3\\envs\\catboost\\lib\\site-packages (from beautifulsoup4->nbconvert>=5->notebook>=4.4.1->widgetsnbextension~=3.6.0->ipywidgets) (2.3.2)\n",
      "Requirement already satisfied: webencodings in c:\\programdata\\anaconda3\\envs\\catboost\\lib\\site-packages (from bleach->nbconvert>=5->notebook>=4.4.1->widgetsnbextension~=3.6.0->ipywidgets) (0.5.1)\n",
      "Requirement already satisfied: pyparsing!=3.0.5,>=2.0.2 in c:\\programdata\\anaconda3\\envs\\catboost\\lib\\site-packages (from packaging->ipykernel>=4.5.1->ipywidgets) (3.0.8)\n",
      "Requirement already satisfied: pure-eval in c:\\programdata\\anaconda3\\envs\\catboost\\lib\\site-packages (from stack-data->ipython>=4.0.0->ipywidgets) (0.2.2)\n",
      "Requirement already satisfied: asttokens in c:\\programdata\\anaconda3\\envs\\catboost\\lib\\site-packages (from stack-data->ipython>=4.0.0->ipywidgets) (2.0.5)\n",
      "Requirement already satisfied: executing in c:\\programdata\\anaconda3\\envs\\catboost\\lib\\site-packages (from stack-data->ipython>=4.0.0->ipywidgets) (0.8.3)\n"
     ]
    },
    {
     "name": "stderr",
     "output_type": "stream",
     "text": [
      "Enabling notebook extension jupyter-js-widgets/extension...\n",
      "      - Validating: ok\n"
     ]
    },
    {
     "name": "stdout",
     "output_type": "stream",
     "text": [
      "Requirement already satisfied: igraph in c:\\programdata\\anaconda3\\envs\\catboost\\lib\\site-packages (0.9.10)\n",
      "Requirement already satisfied: texttable>=1.6.2 in c:\\programdata\\anaconda3\\envs\\catboost\\lib\\site-packages (from igraph) (1.6.4)\n"
     ]
    }
   ],
   "source": [
    "# Установим необходимые пакеты\n",
    "!pip install catboost\n",
    "!pip install graphviz\n",
    "!pip install pydot\n",
    "!pip install pyvis\n",
    "!pip install pycairo\n",
    "!pip install scikit-learn\n",
    "!pip install ipywidgets\n",
    "!jupyter nbextension enable --py widgetsnbextension\n",
    "!pip install igraph"
   ]
  },
  {
   "cell_type": "code",
   "execution_count": 134,
   "id": "e5167c46",
   "metadata": {},
   "outputs": [],
   "source": [
    "# Импортируем библиотеки\n",
    "import catboost\n",
    "import pandas as pd\n",
    "import numpy as np\n",
    "import matplotlib.pyplot as plt"
   ]
  },
  {
   "cell_type": "markdown",
   "id": "94ac54a9",
   "metadata": {},
   "source": [
    "## Exploritary Data Analisys"
   ]
  },
  {
   "cell_type": "code",
   "execution_count": 155,
   "id": "8f9bad76",
   "metadata": {},
   "outputs": [],
   "source": [
    "# Прочитаем файлы\n",
    "file_name = 'train.parquet'\n",
    "df = pd.read_parquet(f'ke_test_data/{file_name}')\n",
    "\n",
    "file_name = \"categories_tree.csv\"\n",
    "category_tree = pd.read_csv(f'ke_test_data/{file_name}')"
   ]
  },
  {
   "cell_type": "code",
   "execution_count": 246,
   "id": "a44603d5",
   "metadata": {},
   "outputs": [
    {
     "name": "stdout",
     "output_type": "stream",
     "text": [
      "<class 'pandas.core.frame.DataFrame'>\n",
      "RangeIndex: 283452 entries, 0 to 283451\n",
      "Data columns (total 7 columns):\n",
      " #   Column                      Non-Null Count   Dtype  \n",
      "---  ------                      --------------   -----  \n",
      " 0   id                          283452 non-null  int64  \n",
      " 1   title                       283452 non-null  object \n",
      " 2   short_description           283452 non-null  object \n",
      " 3   name_value_characteristics  283452 non-null  object \n",
      " 4   rating                      283452 non-null  float64\n",
      " 5   feedback_quantity           283452 non-null  int64  \n",
      " 6   category_id                 283452 non-null  int64  \n",
      "dtypes: float64(1), int64(3), object(3)\n",
      "memory usage: 15.1+ MB\n"
     ]
    }
   ],
   "source": [
    "# Изучим данные на предмет пропусков\n",
    "df.info()"
   ]
  },
  {
   "cell_type": "markdown",
   "id": "cef975ef",
   "metadata": {},
   "source": [
    "#### Заполняем пропуски\n",
    "Как видно в графе описания и характеристик присутствуют пропуски. Заполним их пустыми строками"
   ]
  },
  {
   "cell_type": "code",
   "execution_count": 247,
   "id": "c71f9bf7",
   "metadata": {},
   "outputs": [],
   "source": [
    "df.short_description.fillna(\"\", inplace=True);\n",
    "df.name_value_characteristics.fillna(\"\", inplace=True);"
   ]
  },
  {
   "cell_type": "markdown",
   "id": "9da27317",
   "metadata": {},
   "source": [
    "### Дизбаланс классов"
   ]
  },
  {
   "cell_type": "code",
   "execution_count": 248,
   "id": "e7c4d7c9",
   "metadata": {},
   "outputs": [
    {
     "name": "stdout",
     "output_type": "stream",
     "text": [
      "Число категорий: 1231\n"
     ]
    }
   ],
   "source": [
    "# Всего 1231 конечных категорий. Но 280_000 товаров. Как они распределяются по категориям ?\n",
    "n_category = len(df[\"category_id\"].unique())\n",
    "print(f\"Число категорий: {n_category}\")"
   ]
  },
  {
   "cell_type": "code",
   "execution_count": 249,
   "id": "eb831be4",
   "metadata": {},
   "outputs": [
    {
     "data": {
      "image/png": "[encoded data removed]",
      "text/plain": [
       "<Figure size 432x288 with 1 Axes>"
      ]
     },
     "metadata": {
      "needs_background": "light"
     },
     "output_type": "display_data"
    }
   ],
   "source": [
    "# Максимально неравномерно. Как видим на большую часть категорий приходиться только 500 товаров\n",
    "# У меня как раз не хватает оперативной памяти для того, чтобы построить модель по всему датасету, \n",
    "# поэтому мы сократим его в 2-5 раз, и уравняем классы\n",
    "df.groupby(\"category_id\")[\"id\"].count().hist(bins=20)\n",
    "plt.title(\"Дизбаланс классов\")\n",
    "plt.xlabel(\"Количество товаров в категории\")\n",
    "plt.ylabel(\"Число категорий\");"
   ]
  },
  {
   "cell_type": "code",
   "execution_count": 250,
   "id": "c7a681f6",
   "metadata": {},
   "outputs": [
    {
     "data": {
      "text/plain": [
       "count     1231.000000\n",
       "mean       230.261576\n",
       "std        656.841724\n",
       "min          2.000000\n",
       "25%         17.000000\n",
       "50%         60.000000\n",
       "75%        200.000000\n",
       "max      14967.000000\n",
       "Name: id, dtype: float64"
      ]
     },
     "execution_count": 250,
     "metadata": {},
     "output_type": "execute_result"
    }
   ],
   "source": [
    "# Как видно, у половины категорий не более 60 товаров. Поэтому возьмём по 60 товаров (или меньше) с каждой\n",
    "df.groupby(\"category_id\")[\"id\"].count().describe()"
   ]
  },
  {
   "cell_type": "code",
   "execution_count": 251,
   "id": "a9f3f43e",
   "metadata": {},
   "outputs": [],
   "source": [
    "def take_n_samles(x):\n",
    "    n = 60\n",
    "    n_object_in_class = g.size()[x.category_id].iloc[0]\n",
    "    \n",
    "    if n > n_object_in_class:\n",
    "        return x.sample(n_object_in_class).reset_index(drop=True)\n",
    "    elif n <= n_object_in_class:\n",
    "        return x.sample(n).reset_index(drop=True)\n",
    "\n",
    "df_class_balanced = df.copy()  # Скопируем дф\n",
    "g = df_class_balanced.groupby(\"category_id\")  # Сгруппируем по категориям\n",
    "df_balanced = g.apply(take_n_samles)  # Возьмём по 60 товаров в каждой категории, или меньше\n",
    "df_balanced = df_balanced.reset_index(drop=True)  # Удалим индексы (они дублируют столбец категорий) \n",
    "    "
   ]
  },
  {
   "cell_type": "code",
   "execution_count": 252,
   "id": "d91c7d76",
   "metadata": {},
   "outputs": [
    {
     "data": {
      "image/png": "[encoded data removed]",
      "text/plain": [
       "<Figure size 432x288 with 1 Axes>"
      ]
     },
     "metadata": {
      "needs_background": "light"
     },
     "output_type": "display_data"
    }
   ],
   "source": [
    "# Как видно ровно у половины категорий менее 60 товаров, а у другой половины, более\n",
    "df_balanced.groupby(\"category_id\")[\"id\"].count().hist(bins=10)\n",
    "plt.title(\"Дизбаланс классов в обрезанном df\")\n",
    "plt.xlabel(\"Количество товаров в категории\")\n",
    "plt.ylabel(\"Число категорий\");"
   ]
  },
  {
   "cell_type": "markdown",
   "id": "6c79b130",
   "metadata": {},
   "source": [
    "#### Тестовая и обучающая выборка\n",
    "Поскольку присутсвует значительный дисбаланс классов, будем разбивать на тестовую и обучающую выборку внутри каждого класса.\n",
    "Чтобы все классы присутсвовали в обоих выборках"
   ]
  },
  {
   "cell_type": "code",
   "execution_count": 253,
   "id": "4de4b3c0",
   "metadata": {},
   "outputs": [
    {
     "name": "stdout",
     "output_type": "stream",
     "text": [
      "Число категорий в обучающей 1231, тестовой: 1231\n"
     ]
    }
   ],
   "source": [
    "from sklearn.model_selection import StratifiedKFold, KFold, train_test_split\n",
    "\n",
    "# Если размер тестовой менее 50%, то в неё не попадёт категория с 2 товарами. Лучше написать свою функцию\n",
    "train, test = train_test_split(df_balanced, test_size=0.5, stratify=df_balanced.category_id)  \n",
    "\n",
    "# Проверим \n",
    "category_in_train = len(train.groupby(\"category_id\")[\"id\"].count())\n",
    "category_in_test = len(test.groupby(\"category_id\")[\"id\"].count())\n",
    "print(f\"Число категорий в обучающей {category_in_train}, тестовой: {category_in_test}\")"
   ]
  },
  {
   "cell_type": "markdown",
   "id": "9e8cc318",
   "metadata": {},
   "source": [
    "## Baseline\n",
    "\n",
    "Обучим модель на основе сбалансированного датасета.\n",
    "Будем считать ее f1 score, как стартовую точку, для начала)"
   ]
  },
  {
   "cell_type": "code",
   "execution_count": 254,
   "id": "a2a812f8",
   "metadata": {},
   "outputs": [],
   "source": [
    "y_train = train[\"category_id\"]\n",
    "x_train = train.drop(columns=[\"id\",\"category_id\"])  # Удаляем id\n",
    "\n",
    "test = df.drop(train.index)\n",
    "y_test = test[\"category_id\"]\n",
    "x_test = test.drop(columns=[\"id\",\"category_id\"])"
   ]
  },
  {
   "cell_type": "code",
   "execution_count": 260,
   "id": "454db8a1",
   "metadata": {},
   "outputs": [],
   "source": [
    "from catboost import Pool, CatBoostClassifier\n",
    "\n",
    "\n",
    "text_features = [0, 1, 2]  # Название, описание, размеры\n",
    "\n",
    "\n",
    "train_dataset = Pool(data=x_train,\n",
    "                     label=y_train,            \n",
    "                     text_features=text_features)\n",
    "\n",
    "eval_dataset = Pool(data=x_test,\n",
    "                    label=y_test,\n",
    "                    text_features=text_features)\n",
    "\n",
    "# Initialize CatBoostClassifier\n",
    "model = CatBoostClassifier(iterations=100,\n",
    "                           learning_rate=0.1,\n",
    "                           depth=2,\n",
    "                           loss_function='MultiClass',\n",
    "                           save_snapshot=True,\n",
    "                           snapshot_file=\"snapshot2.bkp\",\n",
    "                           snapshot_interval=1,\n",
    "                           random_seed=43,\n",
    "                           custom_loss=[\"Accuracy\"])  "
   ]
  },
  {
   "cell_type": "code",
   "execution_count": 261,
   "id": "afecb481",
   "metadata": {
    "scrolled": false
   },
   "outputs": [
    {
     "data": {
      "application/vnd.jupyter.widget-view+json": {
       "model_id": "",
       "version_major": 2,
       "version_minor": 0
      },
      "text/plain": [
       "MetricVisualizer(layout=Layout(align_self='stretch', height='500px'))"
      ]
     },
     "metadata": {},
     "output_type": "display_data"
    },
    {
     "name": "stdout",
     "output_type": "stream",
     "text": [
      "0:\tlearn: 7.0732188\ttest: 7.0586593\tbest: 7.0586593 (0)\ttotal: 2m 12s\tremaining: 3h 38m 50s\n",
      "1:\tlearn: 7.0506771\ttest: 7.0250399\tbest: 7.0250399 (1)\ttotal: 4m 38s\tremaining: 3h 47m 8s\n",
      "2:\tlearn: 7.0302659\ttest: 6.9946995\tbest: 6.9946995 (2)\ttotal: 7m 2s\tremaining: 3h 47m 28s\n",
      "3:\tlearn: 7.0070696\ttest: 6.9607661\tbest: 6.9607661 (3)\ttotal: 9m 25s\tremaining: 3h 46m 23s\n",
      "4:\tlearn: 6.9757357\ttest: 6.9253045\tbest: 6.9253045 (4)\ttotal: 11m 51s\tremaining: 3h 45m 27s\n",
      "5:\tlearn: 6.9622406\ttest: 6.9041618\tbest: 6.9041618 (5)\ttotal: 14m 17s\tremaining: 3h 43m 53s\n",
      "6:\tlearn: 6.9501408\ttest: 6.8852216\tbest: 6.8852216 (6)\ttotal: 16m 41s\tremaining: 3h 41m 45s\n",
      "7:\tlearn: 6.9393131\ttest: 6.8683439\tbest: 6.8683439 (7)\ttotal: 19m 6s\tremaining: 3h 39m 42s\n",
      "8:\tlearn: 6.9304692\ttest: 6.8530979\tbest: 6.8530979 (8)\ttotal: 21m 30s\tremaining: 3h 37m 26s\n",
      "9:\tlearn: 6.9214793\ttest: 6.8390158\tbest: 6.8390158 (9)\ttotal: 23m 54s\tremaining: 3h 35m 9s\n",
      "10:\tlearn: 6.9093401\ttest: 6.8257657\tbest: 6.8257657 (10)\ttotal: 26m 18s\tremaining: 3h 32m 51s\n",
      "11:\tlearn: 6.9019301\ttest: 6.8100323\tbest: 6.8100323 (11)\ttotal: 28m 41s\tremaining: 3h 30m 25s\n",
      "12:\tlearn: 6.8822114\ttest: 6.7940162\tbest: 6.7940162 (12)\ttotal: 31m 11s\tremaining: 3h 28m 43s\n",
      "13:\tlearn: 6.8759320\ttest: 6.7843133\tbest: 6.7843133 (13)\ttotal: 33m 36s\tremaining: 3h 26m 26s\n",
      "14:\tlearn: 6.8710439\ttest: 6.7747514\tbest: 6.7747514 (14)\ttotal: 36m\tremaining: 3h 24m 1s\n",
      "15:\tlearn: 6.8623589\ttest: 6.7671549\tbest: 6.7671549 (15)\ttotal: 38m 23s\tremaining: 3h 21m 34s\n",
      "16:\tlearn: 6.8558307\ttest: 6.7559687\tbest: 6.7559687 (16)\ttotal: 40m 47s\tremaining: 3h 19m 8s\n",
      "17:\tlearn: 6.8493918\ttest: 6.7474358\tbest: 6.7474358 (17)\ttotal: 43m 11s\tremaining: 3h 16m 47s\n",
      "18:\tlearn: 6.8441441\ttest: 6.7408191\tbest: 6.7408191 (18)\ttotal: 45m 37s\tremaining: 3h 14m 29s\n",
      "19:\tlearn: 6.8384465\ttest: 6.7336150\tbest: 6.7336150 (19)\ttotal: 48m 1s\tremaining: 3h 12m 5s\n",
      "20:\tlearn: 6.8340464\ttest: 6.7268082\tbest: 6.7268082 (20)\ttotal: 50m 25s\tremaining: 3h 9m 42s\n",
      "21:\tlearn: 6.8296401\ttest: 6.7216079\tbest: 6.7216079 (21)\ttotal: 52m 49s\tremaining: 3h 7m 18s\n",
      "22:\tlearn: 6.8269485\ttest: 6.7157229\tbest: 6.7157229 (22)\ttotal: 55m 30s\tremaining: 3h 5m 49s\n",
      "23:\tlearn: 6.8251094\ttest: 6.7120120\tbest: 6.7120120 (23)\ttotal: 57m 55s\tremaining: 3h 3m 24s\n",
      "24:\tlearn: 6.8225175\ttest: 6.7078159\tbest: 6.7078159 (24)\ttotal: 1h 19s\tremaining: 3h 57s\n",
      "25:\tlearn: 6.8113991\ttest: 6.6970882\tbest: 6.6970882 (25)\ttotal: 1h 3m 12s\tremaining: 2h 59m 54s\n",
      "26:\tlearn: 6.8091663\ttest: 6.6939296\tbest: 6.6939296 (26)\ttotal: 1h 5m 36s\tremaining: 2h 57m 22s\n",
      "27:\tlearn: 6.7892027\ttest: 6.6665989\tbest: 6.6665989 (27)\ttotal: 1h 8m\tremaining: 2h 54m 53s\n",
      "28:\tlearn: 6.7750815\ttest: 6.6511024\tbest: 6.6511024 (28)\ttotal: 1h 10m 41s\tremaining: 2h 53m 3s\n",
      "29:\tlearn: 6.7725430\ttest: 6.6468744\tbest: 6.6468744 (29)\ttotal: 1h 13m 6s\tremaining: 2h 50m 35s\n",
      "30:\tlearn: 6.7700508\ttest: 6.6438777\tbest: 6.6438777 (30)\ttotal: 1h 15m 47s\tremaining: 2h 48m 42s\n",
      "31:\tlearn: 6.7676192\ttest: 6.6400454\tbest: 6.6400454 (31)\ttotal: 1h 18m 12s\tremaining: 2h 46m 11s\n",
      "32:\tlearn: 6.7637053\ttest: 6.6336574\tbest: 6.6336574 (32)\ttotal: 1h 20m 38s\tremaining: 2h 43m 43s\n",
      "33:\tlearn: 6.7626940\ttest: 6.6318751\tbest: 6.6318751 (33)\ttotal: 1h 23m 18s\tremaining: 2h 41m 43s\n",
      "34:\tlearn: 6.7585854\ttest: 6.6234663\tbest: 6.6234663 (34)\ttotal: 1h 25m 43s\tremaining: 2h 39m 11s\n",
      "35:\tlearn: 6.7570110\ttest: 6.6214877\tbest: 6.6214877 (35)\ttotal: 1h 28m 14s\tremaining: 2h 36m 52s\n",
      "36:\tlearn: 6.7554981\ttest: 6.6187293\tbest: 6.6187293 (36)\ttotal: 1h 30m 37s\tremaining: 2h 34m 18s\n",
      "37:\tlearn: 6.7500813\ttest: 6.6104313\tbest: 6.6104313 (37)\ttotal: 1h 33m 9s\tremaining: 2h 32m\n",
      "38:\tlearn: 6.7493669\ttest: 6.6088287\tbest: 6.6088287 (38)\ttotal: 1h 35m 50s\tremaining: 2h 29m 54s\n",
      "39:\tlearn: 6.7472973\ttest: 6.6071083\tbest: 6.6071083 (39)\ttotal: 1h 38m 14s\tremaining: 2h 27m 21s\n",
      "40:\tlearn: 6.7464634\ttest: 6.6058275\tbest: 6.6058275 (40)\ttotal: 1h 40m 55s\tremaining: 2h 25m 13s\n",
      "41:\tlearn: 6.7402039\ttest: 6.6004114\tbest: 6.6004114 (41)\ttotal: 1h 43m 19s\tremaining: 2h 22m 40s\n",
      "42:\tlearn: 6.7327230\ttest: 6.5938014\tbest: 6.5938014 (42)\ttotal: 1h 45m 44s\tremaining: 2h 20m 9s\n",
      "43:\tlearn: 6.7312024\ttest: 6.5925213\tbest: 6.5925213 (43)\ttotal: 1h 48m 25s\tremaining: 2h 17m 59s\n",
      "44:\tlearn: 6.7294101\ttest: 6.5903450\tbest: 6.5903450 (44)\ttotal: 1h 50m 48s\tremaining: 2h 15m 25s\n",
      "45:\tlearn: 6.7278253\ttest: 6.5889758\tbest: 6.5889758 (45)\ttotal: 1h 53m 22s\tremaining: 2h 13m 5s\n",
      "46:\tlearn: 6.7196413\ttest: 6.5815061\tbest: 6.5815061 (46)\ttotal: 1h 55m 46s\tremaining: 2h 10m 33s\n",
      "47:\tlearn: 6.7186886\ttest: 6.5795996\tbest: 6.5795996 (47)\ttotal: 1h 58m 11s\tremaining: 2h 8m 2s\n",
      "48:\tlearn: 6.7162148\ttest: 6.5751161\tbest: 6.5751161 (48)\ttotal: 2h 52s\tremaining: 2h 5m 48s\n",
      "49:\tlearn: 6.7146228\ttest: 6.5741168\tbest: 6.5741168 (49)\ttotal: 2h 3m 17s\tremaining: 2h 3m 17s\n",
      "50:\tlearn: 6.7138577\ttest: 6.5734684\tbest: 6.5734684 (50)\ttotal: 2h 5m 44s\tremaining: 2h 48s\n",
      "51:\tlearn: 6.7123875\ttest: 6.5727238\tbest: 6.5727238 (51)\ttotal: 2h 8m 32s\tremaining: 1h 58m 39s\n",
      "52:\tlearn: 6.7111653\ttest: 6.5710070\tbest: 6.5710070 (52)\ttotal: 2h 10m 55s\tremaining: 1h 56m 6s\n",
      "53:\tlearn: 6.7094827\ttest: 6.5697480\tbest: 6.5697480 (53)\ttotal: 2h 13m 18s\tremaining: 1h 53m 33s\n",
      "54:\tlearn: 6.7086830\ttest: 6.5692594\tbest: 6.5692594 (54)\ttotal: 2h 15m 59s\tremaining: 1h 51m 15s\n",
      "55:\tlearn: 6.7036165\ttest: 6.5630190\tbest: 6.5630190 (55)\ttotal: 2h 18m 22s\tremaining: 1h 48m 43s\n",
      "56:\tlearn: 6.6999398\ttest: 6.5615137\tbest: 6.5615137 (56)\ttotal: 2h 20m 49s\tremaining: 1h 46m 13s\n",
      "57:\tlearn: 6.6923327\ttest: 6.5590367\tbest: 6.5590367 (57)\ttotal: 2h 23m 30s\tremaining: 1h 43m 55s\n",
      "58:\tlearn: 6.6912779\ttest: 6.5581486\tbest: 6.5581486 (58)\ttotal: 2h 25m 53s\tremaining: 1h 41m 23s\n",
      "59:\tlearn: 6.6891023\ttest: 6.5555796\tbest: 6.5555796 (59)\ttotal: 2h 28m 36s\tremaining: 1h 39m 4s\n",
      "60:\tlearn: 6.6876558\ttest: 6.5544363\tbest: 6.5544363 (60)\ttotal: 2h 31m 1s\tremaining: 1h 36m 33s\n",
      "61:\tlearn: 6.6842440\ttest: 6.5530063\tbest: 6.5530063 (61)\ttotal: 2h 33m 26s\tremaining: 1h 34m 2s\n",
      "62:\tlearn: 6.6796286\ttest: 6.5503401\tbest: 6.5503401 (62)\ttotal: 2h 36m 12s\tremaining: 1h 31m 44s\n",
      "63:\tlearn: 6.6791284\ttest: 6.5500276\tbest: 6.5500276 (63)\ttotal: 2h 38m 36s\tremaining: 1h 29m 13s\n",
      "64:\tlearn: 6.6781550\ttest: 6.5496462\tbest: 6.5496462 (64)\ttotal: 2h 41m 19s\tremaining: 1h 26m 52s\n",
      "65:\tlearn: 6.6764770\ttest: 6.5485672\tbest: 6.5485672 (65)\ttotal: 2h 43m 44s\tremaining: 1h 24m 20s\n",
      "66:\tlearn: 6.6758358\ttest: 6.5483638\tbest: 6.5483638 (66)\ttotal: 2h 46m 8s\tremaining: 1h 21m 49s\n",
      "67:\tlearn: 6.6745729\ttest: 6.5476991\tbest: 6.5476991 (67)\ttotal: 2h 48m 49s\tremaining: 1h 19m 26s\n",
      "68:\tlearn: 6.6676840\ttest: 6.5425035\tbest: 6.5425035 (68)\ttotal: 2h 51m 16s\tremaining: 1h 16m 56s\n",
      "69:\tlearn: 6.6655416\ttest: 6.5414733\tbest: 6.5414733 (69)\ttotal: 2h 53m 57s\tremaining: 1h 14m 33s\n",
      "70:\tlearn: 6.6646584\ttest: 6.5410459\tbest: 6.5410459 (70)\ttotal: 2h 56m 22s\tremaining: 1h 12m 2s\n",
      "71:\tlearn: 6.6633204\ttest: 6.5401546\tbest: 6.5401546 (71)\ttotal: 2h 58m 46s\tremaining: 1h 9m 31s\n",
      "72:\tlearn: 6.6621904\ttest: 6.5397826\tbest: 6.5397826 (72)\ttotal: 3h 1m 27s\tremaining: 1h 7m 6s\n",
      "73:\tlearn: 6.6611622\ttest: 6.5387832\tbest: 6.5387832 (73)\ttotal: 3h 3m 51s\tremaining: 1h 4m 35s\n",
      "74:\tlearn: 6.6598812\ttest: 6.5382805\tbest: 6.5382805 (74)\ttotal: 3h 6m 16s\tremaining: 1h 2m 5s\n",
      "75:\tlearn: 6.6589860\ttest: 6.5378224\tbest: 6.5378224 (75)\ttotal: 3h 8m 56s\tremaining: 59m 40s\n",
      "76:\tlearn: 6.6549284\ttest: 6.5350765\tbest: 6.5350765 (76)\ttotal: 3h 11m 21s\tremaining: 57m 9s\n",
      "77:\tlearn: 6.6539685\ttest: 6.5337468\tbest: 6.5337468 (77)\ttotal: 3h 14m 2s\tremaining: 54m 43s\n",
      "78:\tlearn: 6.6532134\ttest: 6.5334406\tbest: 6.5334406 (78)\ttotal: 3h 16m 27s\tremaining: 52m 13s\n",
      "79:\tlearn: 6.6516547\ttest: 6.5328355\tbest: 6.5328355 (79)\ttotal: 3h 18m 55s\tremaining: 49m 43s\n",
      "80:\tlearn: 6.6505019\ttest: 6.5315121\tbest: 6.5315121 (80)\ttotal: 3h 21m 19s\tremaining: 47m 13s\n",
      "81:\tlearn: 6.6488489\ttest: 6.5300857\tbest: 6.5300857 (81)\ttotal: 3h 23m 44s\tremaining: 44m 43s\n",
      "82:\tlearn: 6.6481933\ttest: 6.5292597\tbest: 6.5292597 (82)\ttotal: 3h 26m 24s\tremaining: 42m 16s\n",
      "83:\tlearn: 6.6475900\ttest: 6.5290123\tbest: 6.5290123 (83)\ttotal: 3h 28m 48s\tremaining: 39m 46s\n",
      "84:\tlearn: 6.6443888\ttest: 6.5247356\tbest: 6.5247356 (84)\ttotal: 3h 31m 13s\tremaining: 37m 16s\n",
      "85:\tlearn: 6.6434016\ttest: 6.5214879\tbest: 6.5214879 (85)\ttotal: 3h 33m 58s\tremaining: 34m 49s\n"
     ]
    },
    {
     "name": "stdout",
     "output_type": "stream",
     "text": [
      "86:\tlearn: 6.6427566\ttest: 6.5212052\tbest: 6.5212052 (86)\ttotal: 3h 36m 22s\tremaining: 32m 19s\n",
      "87:\tlearn: 6.6409548\ttest: 6.5204950\tbest: 6.5204950 (87)\ttotal: 3h 38m 47s\tremaining: 29m 50s\n",
      "88:\tlearn: 6.6373007\ttest: 6.5168714\tbest: 6.5168714 (88)\ttotal: 3h 41m 27s\tremaining: 27m 22s\n",
      "89:\tlearn: 6.6362775\ttest: 6.5164645\tbest: 6.5164645 (89)\ttotal: 3h 43m 52s\tremaining: 24m 52s\n",
      "90:\tlearn: 6.6349037\ttest: 6.5158193\tbest: 6.5158193 (90)\ttotal: 3h 46m 31s\tremaining: 22m 24s\n",
      "91:\tlearn: 6.6335332\ttest: 6.5152031\tbest: 6.5152031 (91)\ttotal: 3h 48m 55s\tremaining: 19m 54s\n",
      "92:\tlearn: 6.6317897\ttest: 6.5136041\tbest: 6.5136041 (92)\ttotal: 3h 51m 20s\tremaining: 17m 24s\n",
      "93:\tlearn: 6.6297321\ttest: 6.5122301\tbest: 6.5122301 (93)\ttotal: 3h 54m 2s\tremaining: 14m 56s\n",
      "94:\tlearn: 6.6284464\ttest: 6.5117890\tbest: 6.5117890 (94)\ttotal: 3h 56m 26s\tremaining: 12m 26s\n",
      "95:\tlearn: 6.6262406\ttest: 6.5099188\tbest: 6.5099188 (95)\ttotal: 3h 58m 51s\tremaining: 9m 57s\n",
      "96:\tlearn: 6.6238775\ttest: 6.5087239\tbest: 6.5087239 (96)\ttotal: 4h 1m 39s\tremaining: 7m 28s\n",
      "97:\tlearn: 6.6223971\ttest: 6.5081316\tbest: 6.5081316 (97)\ttotal: 4h 4m 3s\tremaining: 4m 58s\n",
      "98:\tlearn: 6.6204489\ttest: 6.5071562\tbest: 6.5071562 (98)\ttotal: 4h 6m 45s\tremaining: 2m 29s\n",
      "99:\tlearn: 6.6192148\ttest: 6.5067031\tbest: 6.5067031 (99)\ttotal: 4h 9m 10s\tremaining: 0us\n",
      "\n",
      "bestTest = 6.506703078\n",
      "bestIteration = 99\n",
      "\n"
     ]
    },
    {
     "data": {
      "text/plain": [
       "<catboost.core.CatBoostClassifier at 0x1196eeb5910>"
      ]
     },
     "execution_count": 261,
     "metadata": {},
     "output_type": "execute_result"
    }
   ],
   "source": [
    "# Fit model\n",
    "\n",
    "model.fit(train_dataset,\n",
    "          eval_set=eval_dataset,\n",
    "          logging_level='Verbose',\n",
    "          plot=True\n",
    "          )"
   ]
  },
  {
   "cell_type": "code",
   "execution_count": 262,
   "id": "f65778d4",
   "metadata": {},
   "outputs": [],
   "source": [
    "# Сохраним модель\n",
    "file_name = \"model_base_with_balance_50to50\"\n",
    "model.save_model(fname=f'ke_test_data/{file_name}',\n",
    "                 format=\"cbm\",\n",
    "                )"
   ]
  },
  {
   "cell_type": "code",
   "execution_count": 263,
   "id": "37caa9f6",
   "metadata": {},
   "outputs": [],
   "source": [
    "# Посмотрим предсказания на тесте\n",
    "preds_class = model.predict(eval_dataset) # Предскажем тестового датасета"
   ]
  },
  {
   "cell_type": "code",
   "execution_count": 393,
   "id": "e9235226",
   "metadata": {},
   "outputs": [],
   "source": [
    "# Ожидаемо, самым полезным оказалось название и описание\n",
    "model.get_feature_importance(prettified=True)"
   ]
  },
  {
   "cell_type": "code",
   "execution_count": 368,
   "id": "434f2163",
   "metadata": {},
   "outputs": [
    {
     "name": "stdout",
     "output_type": "stream",
     "text": [
      "Simple model validation accuracy: 0.5470354717088711\n",
      "f1_score for predicted: 0.49211736299909414\n"
     ]
    }
   ],
   "source": [
    "from sklearn.metrics import accuracy_score, f1_score\n",
    "\n",
    "print(f'Simple model validation accuracy: {accuracy_score(y_test, preds_class)}')\n",
    "aver = 'weighted'\n",
    "print(f'f1_score for predicted: {f1_score(y_test, preds_class, average=aver)}')"
   ]
  },
  {
   "cell_type": "markdown",
   "id": "a625dc0b",
   "metadata": {},
   "source": [
    "Качество очень низкое. Нужно повышать его:\n",
    "\n",
    "\n",
    " 1) Создать граф моделей, где для каждой категории будем предсказывать подкатегории и далее\n",
    "\n",
    " 2) Улучшить распознавания текста, создав эмбрендинги на другой модели (например BERT)\n",
    " \n",
    " 3) 80% товаров приходится на 10% категорий. Мы можем хорошо научиться определять их\n",
    " \n",
    " Таким образом запустим модель на обучение по всей всему датасету, если результаты окажутся неудолетворительными, добавить модель трансформера"
   ]
  },
  {
   "cell_type": "markdown",
   "id": "2809429f",
   "metadata": {},
   "source": [
    "## Работа с графами\n",
    "Задача: Написать функцию для возврата родителя для каждого товара, чтобы посчитать f1 для всех уровней"
   ]
  },
  {
   "cell_type": "markdown",
   "id": "4260ba38",
   "metadata": {},
   "source": [
    "### Постоение графа"
   ]
  },
  {
   "cell_type": "code",
   "execution_count": 144,
   "id": "4f1be13f",
   "metadata": {},
   "outputs": [],
   "source": [
    "import networkx as nx\n",
    "from pyvis.network import Network\n",
    "import graphviz\n",
    "import pydot"
   ]
  },
  {
   "cell_type": "code",
   "execution_count": 159,
   "id": "b6a8d489",
   "metadata": {},
   "outputs": [],
   "source": [
    "parentid_id = pd.concat([category_tree[\"parent_id\"],category_tree[\"id\"]],axis=1) # Выбираем строки для создания графа\n",
    "parentid_id = parentid_id.to_numpy() # Граф работает через numpy\n",
    "info = category_tree[\"title\"] \n",
    "category_tree = category_tree.set_index(\"id\")"
   ]
  },
  {
   "cell_type": "code",
   "execution_count": 160,
   "id": "d7d99587",
   "metadata": {},
   "outputs": [],
   "source": [
    "G = nx.DiGraph()\n",
    "G.add_edges_from(parentid_id)\n",
    "miss_id = [0, 2779, 10017]  # Данные id не существуют, но указаны как parent_id\n",
    "for node_id in G.nodes: # Дадим названия каждому элементу графа\n",
    "    G.nodes[node_id][\"title\"] = category_tree.loc[node_id][\"title\"]"
   ]
  },
  {
   "cell_type": "code",
   "execution_count": 161,
   "id": "f4a71af8",
   "metadata": {
    "scrolled": false
   },
   "outputs": [
    {
     "name": "stdout",
     "output_type": "stream",
     "text": [
      "number_of_nodes: 3373\n",
      "number_of_edges: 3373\n"
     ]
    }
   ],
   "source": [
    "print(f\"number_of_nodes: {G.number_of_nodes()}\") # Выведем характеристики графа\n",
    "print(f\"number_of_edges: {G.number_of_edges()}\")"
   ]
  },
  {
   "cell_type": "code",
   "execution_count": 237,
   "id": "ada02890",
   "metadata": {},
   "outputs": [],
   "source": [
    "# Визуализация графа (много весит, подлагивает)\n",
    "import pydot\n",
    "import matplotlib.pyplot as plt\n",
    "from networkx.drawing.nx_pydot import graphviz_layout\n",
    "from matplotlib.pyplot import figure\n",
    "\n",
    "# figure(figsize=(30, 20), dpi=800)\n",
    "# pos = graphviz_layout(G, prog=\"dot\")\n",
    "# nx.draw(G, pos)\n",
    "# plt.show()"
   ]
  },
  {
   "cell_type": "markdown",
   "id": "e8be2159",
   "metadata": {},
   "source": [
    "![alt text](Graph_image.png \"Title\")"
   ]
  },
  {
   "cell_type": "markdown",
   "id": "3bb01d6b",
   "metadata": {},
   "source": [
    "### Поиск родителей для каждого элемента"
   ]
  },
  {
   "cell_type": "code",
   "execution_count": 322,
   "id": "409b9199",
   "metadata": {},
   "outputs": [
    {
     "name": "stdout",
     "output_type": "stream",
     "text": [
      "[1913, 1821, 1, 0]\n"
     ]
    }
   ],
   "source": [
    "def parent(id_n,level=1):\n",
    "    if isinstance(id_n, np.ndarray): \n",
    "        if np.ndim(id_n) == 2: id_n = np.squeeze(id_n)\n",
    "        id_n = id_n.tolist()\n",
    "        \n",
    "    level_all = []\n",
    "    for id in id_n:\n",
    "        if level == 1:\n",
    "            level_1 = [i for i in G.predecessors(id)]\n",
    "            level_last = level_1[0]\n",
    "\n",
    "        elif level == 2:\n",
    "            level_1 = [i for i in G.predecessors(id)]\n",
    "            level_2 = [i for i in G.predecessors(level_1[0])]\n",
    "            level_1.append(level_2[0])\n",
    "            level_last = level_2[0]\n",
    "\n",
    "\n",
    "        elif level == 3:\n",
    "            level_1 = [i for i in G.predecessors(id)]\n",
    "            level_2 = [i for i in G.predecessors(level_1[0])]\n",
    "            level_1.append(level_2[0])\n",
    "            level_3 = [i for i in G.predecessors(level_2[0])]\n",
    "            level_1.append(level_3[0])\n",
    "            level_last = level_3[0]\n",
    "            \n",
    "            \n",
    "        level_all.append(level_last)\n",
    "        \n",
    "    return level_all\n",
    "    \n",
    "print(parent(id_n=[114, 1913, 1821, 1],level=1))"
   ]
  },
  {
   "cell_type": "code",
   "execution_count": 199,
   "id": "ba91ad14",
   "metadata": {},
   "outputs": [
    {
     "name": "stdout",
     "output_type": "stream",
     "text": [
      "1 not in 1 graph\n",
      "553 not in 1 graph\n",
      "1754 not in 1 graph\n",
      "2000 not in 1 graph\n",
      "2779 not in 1 graph\n",
      "2780 not in 1 graph\n",
      "2781 not in 1 graph\n",
      "2782 not in 1 graph\n",
      "2783 not in 1 graph\n",
      "2784 not in 1 graph\n",
      "2785 not in 1 graph\n",
      "2786 not in 1 graph\n",
      "2787 not in 1 graph\n",
      "2788 not in 1 graph\n",
      "2789 not in 1 graph\n",
      "2790 not in 1 graph\n",
      "2791 not in 1 graph\n",
      "2792 not in 1 graph\n",
      "2793 not in 1 graph\n",
      "2794 not in 1 graph\n",
      "2795 not in 1 graph\n",
      "2796 not in 1 graph\n",
      "2890 not in 1 graph\n"
     ]
    }
   ],
   "source": [
    "# Данные id идут от 0, хотя должны от 1 (\"Все категории\")\n",
    "descendants_0 = nx.descendants(G,0)\n",
    "descendants_1 = nx.descendants(G,1)\n",
    "\n",
    "for des_0 in descendants_0:\n",
    "    if not des_0 in descendants_1: \n",
    "        print(f\"{des_0} not in 1 graph\")"
   ]
  },
  {
   "cell_type": "markdown",
   "id": "fdc7cd4a",
   "metadata": {},
   "source": [
    "### Насколько базовая модель точно определяет родителей ?\n",
    "Всё-же точность весьма низкая. А значит, что натренировав несколько моделей, мы можем улучшить результаты"
   ]
  },
  {
   "cell_type": "code",
   "execution_count": 345,
   "id": "5ebf77d0",
   "metadata": {},
   "outputs": [
    {
     "name": "stdout",
     "output_type": "stream",
     "text": [
      "Simple accuracy for parents level_1: 0.08480583144072026\n",
      "Simple accuracy for parents level_2: 0.1501890033699475\n",
      "Simple accuracy for parents level_3: 0.322787577236024\n",
      "Simple accuracy for parents level_4: 0.7550810373712088\n",
      "Simple accuracy for parents level_5: 0.9599243212709074\n"
     ]
    }
   ],
   "source": [
    "# Точность для уровня 1 :\n",
    "y_test_level1 = parent(id_n=y_test, level=1)\n",
    "preds_class_level1 = parent(id_n=preds_class, level=1)\n",
    "print(f'Simple accuracy for parents level_1: {accuracy_score(y_test_level1, preds_class_level1)}')\n",
    "\n",
    "# Точность для уровня 2 :\n",
    "y_test_level2 = parent(id_n=y_test_level1, level=1)\n",
    "preds_class_level2 = parent(id_n=preds_class_level1, level=1)\n",
    "print(f'Simple accuracy for parents level_2: {accuracy_score(y_test_level2, preds_class_level2)}')\n",
    "\n",
    "# Точность для уровня 3 :\n",
    "y_test_level3 = parent(id_n=y_test_level2, level=1)\n",
    "preds_class_level3 = parent(id_n=preds_class_level2, level=1)\n",
    "print(f'Simple accuracy for parents level_3: {accuracy_score(y_test_level3, preds_class_level3)}')\n",
    "\n",
    "# Точность для уровня 4 :\n",
    "y_test_level4 = parent(id_n=y_test_level3, level=1)\n",
    "preds_class_level4 = parent(id_n=preds_class_level3, level=1)\n",
    "print(f'Simple accuracy for parents level_4: {accuracy_score(y_test_level4, preds_class_level4)}')\n",
    "\n",
    "# Точность для уровня 5 :\n",
    "y_test_level5 = parent(id_n=y_test_level4, level=1)\n",
    "preds_class_level5 = parent(id_n=preds_class_level4, level=1)\n",
    "print(f'Simple accuracy for parents level_5: {accuracy_score(y_test_level5, preds_class_level5)}')\n"
   ]
  },
  {
   "cell_type": "markdown",
   "id": "cb449f1a",
   "metadata": {},
   "source": [
    "А какая будет точность на несбалансированной выборке ?"
   ]
  },
  {
   "cell_type": "markdown",
   "id": "0a58d3a3",
   "metadata": {},
   "source": [
    "## Catboost на полном датасете"
   ]
  },
  {
   "cell_type": "code",
   "execution_count": 355,
   "id": "c72337a0",
   "metadata": {},
   "outputs": [],
   "source": [
    "# Разделим датасет равномерно по категориям. Ровно поплам, поскольку есть категория с 2 товарами\n",
    "train, test = train_test_split(df, test_size=0.5, stratify=df.category_id)\n",
    "\n",
    "y_train = train[\"category_id\"]\n",
    "x_train = train.drop(columns=[\"id\",\"category_id\"])  # Удаляем id\n",
    "\n",
    "test = df.drop(train.index)\n",
    "y_test = test[\"category_id\"]\n",
    "x_test = test.drop(columns=[\"id\",\"category_id\"])"
   ]
  },
  {
   "cell_type": "code",
   "execution_count": 358,
   "id": "5dc69380",
   "metadata": {},
   "outputs": [],
   "source": [
    "from catboost import Pool, CatBoostClassifier\n",
    "\n",
    "\n",
    "text_features = [0, 1, 2]  # Название, описание, размеры\n",
    "\n",
    "\n",
    "train_dataset = Pool(data=x_train,\n",
    "                     label=y_train,            \n",
    "                     text_features=text_features)\n",
    "\n",
    "eval_dataset = Pool(data=x_test,\n",
    "                    label=y_test,\n",
    "                    text_features=text_features)\n",
    "\n",
    "# Initialize CatBoostClassifier\n",
    "model_full = CatBoostClassifier(iterations=100,\n",
    "                           learning_rate=0.1,\n",
    "                           depth=2,\n",
    "                           loss_function='MultiClass',\n",
    "                           save_snapshot=True,\n",
    "                           snapshot_file=\"snapshot_full.bkp\",\n",
    "                           snapshot_interval=1,\n",
    "                           random_seed=43,\n",
    "                               )  "
   ]
  },
  {
   "cell_type": "code",
   "execution_count": 359,
   "id": "a74ba71a",
   "metadata": {
    "scrolled": true
   },
   "outputs": [
    {
     "data": {
      "application/vnd.jupyter.widget-view+json": {
       "model_id": "c9f64dfd938047b9815ebe94560a4291",
       "version_major": 2,
       "version_minor": 0
      },
      "text/plain": [
       "MetricVisualizer(layout=Layout(align_self='stretch', height='500px'))"
      ]
     },
     "metadata": {},
     "output_type": "display_data"
    },
    {
     "name": "stdout",
     "output_type": "stream",
     "text": [
      "0:\tlearn: 6.6927011\ttest: 6.3770699\tbest: 6.3770699 (0)\ttotal: 12m 14s\tremaining: 20h 11m 49s\n",
      "1:\tlearn: 6.3957210\ttest: 6.0729483\tbest: 6.0729483 (1)\ttotal: 25m 52s\tremaining: 21h 7m 49s\n",
      "2:\tlearn: 6.2380453\ttest: 5.9185265\tbest: 5.9185265 (2)\ttotal: 39m 42s\tremaining: 21h 23m 42s\n",
      "3:\tlearn: 6.0479989\ttest: 5.7825221\tbest: 5.7825221 (3)\ttotal: 53m 28s\tremaining: 21h 23m 30s\n",
      "4:\tlearn: 5.7795070\ttest: 5.6392290\tbest: 5.6392290 (4)\ttotal: 1h 7m 29s\tremaining: 21h 22m 22s\n",
      "5:\tlearn: 5.9058950\ttest: 5.8628428\tbest: 5.6392290 (4)\ttotal: 1h 21m 31s\tremaining: 21h 17m 15s\n",
      "6:\tlearn: 5.6073386\ttest: 5.5188295\tbest: 5.5188295 (6)\ttotal: 1h 35m 16s\tremaining: 21h 5m 46s\n",
      "7:\tlearn: 5.5076378\ttest: 5.4224509\tbest: 5.4224509 (7)\ttotal: 1h 48m 50s\tremaining: 20h 51m 40s\n",
      "8:\tlearn: 5.4221478\ttest: 5.3316014\tbest: 5.3316014 (8)\ttotal: 2h 2m 18s\tremaining: 20h 36m 43s\n",
      "9:\tlearn: 5.3517759\ttest: 5.2603711\tbest: 5.2603711 (9)\ttotal: 2h 15m 52s\tremaining: 20h 22m 50s\n",
      "10:\tlearn: 5.2488823\ttest: 5.1583294\tbest: 5.1583294 (10)\ttotal: 2h 29m 40s\tremaining: 20h 11m 2s\n",
      "11:\tlearn: 5.1815393\ttest: 5.0885127\tbest: 5.0885127 (11)\ttotal: 2h 43m 15s\tremaining: 19h 57m 10s\n",
      "12:\tlearn: 5.1087938\ttest: 5.0106099\tbest: 5.0106099 (12)\ttotal: 2h 57m 20s\tremaining: 19h 46m 52s\n",
      "13:\tlearn: 5.0374293\ttest: 4.9337042\tbest: 4.9337042 (13)\ttotal: 3h 11m 35s\tremaining: 19h 36m 57s\n",
      "14:\tlearn: 4.9797924\ttest: 4.8715012\tbest: 4.8715012 (14)\ttotal: 3h 25m 27s\tremaining: 19h 24m 16s\n",
      "15:\tlearn: 4.9061597\ttest: 4.7963113\tbest: 4.7963113 (15)\ttotal: 3h 39m 19s\tremaining: 19h 11m 29s\n",
      "16:\tlearn: 4.8502908\ttest: 4.7366059\tbest: 4.7366059 (16)\ttotal: 3h 52m 56s\tremaining: 18h 57m 16s\n",
      "17:\tlearn: 4.7911719\ttest: 4.6781182\tbest: 4.6781182 (17)\ttotal: 4h 7m 44s\tremaining: 18h 48m 37s\n",
      "18:\tlearn: 4.7491205\ttest: 4.6318365\tbest: 4.6318365 (18)\ttotal: 4h 21m 50s\tremaining: 18h 36m 17s\n",
      "19:\tlearn: 4.7101564\ttest: 4.5895937\tbest: 4.5895937 (19)\ttotal: 4h 35m 43s\tremaining: 18h 22m 53s\n",
      "20:\tlearn: 4.6601221\ttest: 4.5378519\tbest: 4.5378519 (20)\ttotal: 4h 49m 12s\tremaining: 18h 7m 58s\n",
      "21:\tlearn: 4.6227052\ttest: 4.4918861\tbest: 4.4918861 (21)\ttotal: 5h 2m 47s\tremaining: 17h 53m 30s\n",
      "22:\tlearn: 4.5882699\ttest: 4.4541887\tbest: 4.4541887 (22)\ttotal: 5h 16m 34s\tremaining: 17h 39m 50s\n",
      "23:\tlearn: 4.5543490\ttest: 4.4180596\tbest: 4.4180596 (23)\ttotal: 5h 30m 13s\tremaining: 17h 25m 42s\n",
      "24:\tlearn: 4.5332764\ttest: 4.3951759\tbest: 4.3951759 (24)\ttotal: 5h 44m 14s\tremaining: 17h 12m 42s\n",
      "25:\tlearn: 4.4949609\ttest: 4.3550527\tbest: 4.3550527 (25)\ttotal: 5h 58m 31s\tremaining: 17h 25s\n",
      "26:\tlearn: 4.4681030\ttest: 4.3274901\tbest: 4.3274901 (26)\ttotal: 6h 12m 49s\tremaining: 16h 48m\n",
      "27:\tlearn: 4.4288907\ttest: 4.2890255\tbest: 4.2890255 (27)\ttotal: 6h 27m 10s\tremaining: 16h 35m 36s\n",
      "28:\tlearn: 4.3995508\ttest: 4.2560869\tbest: 4.2560869 (28)\ttotal: 6h 40m 49s\tremaining: 16h 21m 20s\n",
      "29:\tlearn: 4.3712236\ttest: 4.2258443\tbest: 4.2258443 (29)\ttotal: 6h 55m 29s\tremaining: 16h 9m 29s\n",
      "30:\tlearn: 4.3441398\ttest: 4.1964945\tbest: 4.1964945 (30)\ttotal: 7h 9m 13s\tremaining: 15h 55m 22s\n",
      "31:\tlearn: 4.3164269\ttest: 4.1631009\tbest: 4.1631009 (31)\ttotal: 7h 23m 8s\tremaining: 15h 41m 41s\n",
      "32:\tlearn: 4.2964226\ttest: 4.1410713\tbest: 4.1410713 (32)\ttotal: 7h 37m 11s\tremaining: 15h 28m 14s\n",
      "33:\tlearn: 4.2676800\ttest: 4.1123307\tbest: 4.1123307 (33)\ttotal: 7h 51m 2s\tremaining: 15h 14m 22s\n",
      "34:\tlearn: 4.2504796\ttest: 4.0930165\tbest: 4.0930165 (34)\ttotal: 8h 4m 46s\tremaining: 15h 17s\n",
      "35:\tlearn: 4.2264671\ttest: 4.0666274\tbest: 4.0666274 (35)\ttotal: 8h 18m 48s\tremaining: 14h 46m 46s\n",
      "36:\tlearn: 4.2023177\ttest: 4.0413162\tbest: 4.0413162 (36)\ttotal: 8h 33m 14s\tremaining: 14h 33m 53s\n",
      "37:\tlearn: 4.1779826\ttest: 4.0145179\tbest: 4.0145179 (37)\ttotal: 8h 47m 7s\tremaining: 14h 20m 1s\n",
      "38:\tlearn: 4.1522306\ttest: 3.9871601\tbest: 3.9871601 (38)\ttotal: 9h 58s\tremaining: 14h 6m 7s\n",
      "39:\tlearn: 4.1366244\ttest: 3.9682081\tbest: 3.9682081 (39)\ttotal: 9h 14m 49s\tremaining: 13h 52m 14s\n",
      "40:\tlearn: 4.1127972\ttest: 3.9411555\tbest: 3.9411555 (40)\ttotal: 9h 29m 27s\tremaining: 13h 39m 27s\n",
      "41:\tlearn: 4.1081414\ttest: 3.9359707\tbest: 3.9359707 (41)\ttotal: 9h 44m 2s\tremaining: 13h 26m 31s\n",
      "42:\tlearn: 4.0861471\ttest: 3.9129429\tbest: 3.9129429 (42)\ttotal: 9h 58m 16s\tremaining: 13h 13m 3s\n",
      "43:\tlearn: 4.0627133\ttest: 3.8879600\tbest: 3.8879600 (43)\ttotal: 10h 12m 25s\tremaining: 12h 59m 27s\n",
      "44:\tlearn: 4.0500134\ttest: 3.8741086\tbest: 3.8741086 (44)\ttotal: 10h 26m 51s\tremaining: 12h 46m 10s\n",
      "45:\tlearn: 4.0372805\ttest: 3.8607971\tbest: 3.8607971 (45)\ttotal: 10h 41m 1s\tremaining: 12h 32m 30s\n",
      "46:\tlearn: 4.0266570\ttest: 3.8488604\tbest: 3.8488604 (46)\ttotal: 10h 55m 17s\tremaining: 12h 18m 57s\n",
      "47:\tlearn: 4.0140291\ttest: 3.8344575\tbest: 3.8344575 (47)\ttotal: 11h 9m 36s\tremaining: 12h 5m 24s\n",
      "48:\tlearn: 4.0029302\ttest: 3.8228251\tbest: 3.8228251 (48)\ttotal: 11h 23m 24s\tremaining: 11h 51m 18s\n",
      "49:\tlearn: 3.9825120\ttest: 3.7997705\tbest: 3.7997705 (49)\ttotal: 11h 37m 3s\tremaining: 11h 37m 3s\n",
      "50:\tlearn: 3.9618155\ttest: 3.7761656\tbest: 3.7761656 (50)\ttotal: 11h 50m 55s\tremaining: 11h 23m 2s\n",
      "51:\tlearn: 3.9417653\ttest: 3.7541760\tbest: 3.7541760 (51)\ttotal: 12h 5m 22s\tremaining: 11h 9m 34s\n",
      "52:\tlearn: 3.9215940\ttest: 3.7314785\tbest: 3.7314785 (52)\ttotal: 12h 19m 54s\tremaining: 10h 56m 8s\n",
      "53:\tlearn: 3.9150958\ttest: 3.7247944\tbest: 3.7247944 (53)\ttotal: 12h 33m 40s\tremaining: 10h 42m 1s\n",
      "54:\tlearn: 3.9092665\ttest: 3.7190603\tbest: 3.7190603 (54)\ttotal: 12h 47m 52s\tremaining: 10h 28m 15s\n",
      "55:\tlearn: 3.8987664\ttest: 3.7076877\tbest: 3.7076877 (55)\ttotal: 13h 2m 2s\tremaining: 10h 14m 27s\n",
      "56:\tlearn: 3.8925932\ttest: 3.7013481\tbest: 3.7013481 (56)\ttotal: 13h 16m 41s\tremaining: 10h 1m\n",
      "57:\tlearn: 3.8749780\ttest: 3.6779101\tbest: 3.6779101 (57)\ttotal: 13h 31m 58s\tremaining: 9h 47m 58s\n",
      "58:\tlearn: 3.8721629\ttest: 3.6742141\tbest: 3.6742141 (58)\ttotal: 13h 46m 54s\tremaining: 9h 34m 37s\n",
      "59:\tlearn: 3.8595527\ttest: 3.6599131\tbest: 3.6599131 (59)\ttotal: 14h 1m\tremaining: 9h 20m 40s\n",
      "60:\tlearn: 3.8487011\ttest: 3.6482588\tbest: 3.6482588 (60)\ttotal: 14h 14m 51s\tremaining: 9h 6m 33s\n",
      "61:\tlearn: 3.8370445\ttest: 3.6346372\tbest: 3.6346372 (61)\ttotal: 14h 29m\tremaining: 8h 52m 36s\n",
      "62:\tlearn: 3.8258635\ttest: 3.6230195\tbest: 3.6230195 (62)\ttotal: 14h 43m 12s\tremaining: 8h 38m 42s\n",
      "63:\tlearn: 3.8189395\ttest: 3.6164180\tbest: 3.6164180 (63)\ttotal: 14h 57m 59s\tremaining: 8h 25m 7s\n",
      "64:\tlearn: 3.8113934\ttest: 3.6084996\tbest: 3.6084996 (64)\ttotal: 15h 12m 37s\tremaining: 8h 11m 25s\n",
      "65:\tlearn: 3.8000573\ttest: 3.5966089\tbest: 3.5966089 (65)\ttotal: 15h 27m 10s\tremaining: 7h 57m 38s\n",
      "66:\tlearn: 3.7860512\ttest: 3.5820161\tbest: 3.5820161 (66)\ttotal: 15h 41m 13s\tremaining: 7h 43m 35s\n",
      "67:\tlearn: 3.7808199\ttest: 3.5767424\tbest: 3.5767424 (67)\ttotal: 15h 55m 33s\tremaining: 7h 29m 40s\n",
      "68:\tlearn: 3.7743984\ttest: 3.5696583\tbest: 3.5696583 (68)\ttotal: 16h 10m 8s\tremaining: 7h 15m 51s\n",
      "69:\tlearn: 3.7634999\ttest: 3.5579417\tbest: 3.5579417 (69)\ttotal: 16h 24m 36s\tremaining: 7h 1m 58s\n",
      "70:\tlearn: 3.7548023\ttest: 3.5497611\tbest: 3.5497611 (70)\ttotal: 16h 38m 53s\tremaining: 6h 47m 59s\n",
      "71:\tlearn: 3.7413268\ttest: 3.5351704\tbest: 3.5351704 (71)\ttotal: 16h 53m 52s\tremaining: 6h 34m 17s\n",
      "72:\tlearn: 3.7307710\ttest: 3.5232892\tbest: 3.5232892 (72)\ttotal: 17h 7m 48s\tremaining: 6h 20m 8s\n",
      "73:\tlearn: 3.7239319\ttest: 3.5160723\tbest: 3.5160723 (73)\ttotal: 17h 21m 53s\tremaining: 6h 6m 4s\n",
      "74:\tlearn: 3.7197580\ttest: 3.5119515\tbest: 3.5119515 (74)\ttotal: 17h 36m 4s\tremaining: 5h 52m 1s\n",
      "75:\tlearn: 3.7143062\ttest: 3.5063864\tbest: 3.5063864 (75)\ttotal: 17h 50m 12s\tremaining: 5h 37m 57s\n",
      "76:\tlearn: 3.7056898\ttest: 3.4972875\tbest: 3.4972875 (76)\ttotal: 18h 4m 37s\tremaining: 5h 23m 58s\n",
      "77:\tlearn: 3.7005953\ttest: 3.4924511\tbest: 3.4924511 (77)\ttotal: 18h 19m 42s\tremaining: 5h 10m 10s\n",
      "78:\tlearn: 3.6953875\ttest: 3.4863497\tbest: 3.4863497 (78)\ttotal: 18h 35m 14s\tremaining: 4h 56m 27s\n",
      "79:\tlearn: 3.6917909\ttest: 3.4825192\tbest: 3.4825192 (79)\ttotal: 18h 49m 43s\tremaining: 4h 42m 25s\n",
      "80:\tlearn: 3.6867390\ttest: 3.4774771\tbest: 3.4774771 (80)\ttotal: 19h 4m 13s\tremaining: 4h 28m 23s\n",
      "81:\tlearn: 3.6834219\ttest: 3.4741063\tbest: 3.4741063 (81)\ttotal: 19h 18m 31s\tremaining: 4h 14m 18s\n",
      "82:\tlearn: 3.6746833\ttest: 3.4652990\tbest: 3.4652990 (82)\ttotal: 19h 33m 38s\tremaining: 4h 23s\n",
      "83:\tlearn: 3.6732989\ttest: 3.4637884\tbest: 3.4637884 (83)\ttotal: 19h 48m 16s\tremaining: 3h 46m 20s\n"
     ]
    },
    {
     "name": "stdout",
     "output_type": "stream",
     "text": [
      "84:\tlearn: 3.6674260\ttest: 3.4573143\tbest: 3.4573143 (84)\ttotal: 20h 3m 36s\tremaining: 3h 32m 24s\n",
      "85:\tlearn: 3.6633026\ttest: 3.4529799\tbest: 3.4529799 (85)\ttotal: 20h 19m 8s\tremaining: 3h 18m 27s\n",
      "86:\tlearn: 3.6564181\ttest: 3.4457548\tbest: 3.4457548 (86)\ttotal: 20h 35m 13s\tremaining: 3h 4m 34s\n",
      "87:\tlearn: 3.6531193\ttest: 3.4423736\tbest: 3.4423736 (87)\ttotal: 20h 51m 16s\tremaining: 2h 50m 37s\n",
      "88:\tlearn: 3.6422767\ttest: 3.4321151\tbest: 3.4321151 (88)\ttotal: 21h 8m 3s\tremaining: 2h 36m 43s\n",
      "89:\tlearn: 3.6380717\ttest: 3.4273668\tbest: 3.4273668 (89)\ttotal: 21h 23m 35s\tremaining: 2h 22m 37s\n",
      "90:\tlearn: 3.6308498\ttest: 3.4195507\tbest: 3.4195507 (90)\ttotal: 21h 39m 4s\tremaining: 2h 8m 28s\n",
      "91:\tlearn: 3.6269151\ttest: 3.4160500\tbest: 3.4160500 (91)\ttotal: 21h 54m 25s\tremaining: 1h 54m 17s\n",
      "92:\tlearn: 3.6231031\ttest: 3.4122716\tbest: 3.4122716 (92)\ttotal: 22h 10m 20s\tremaining: 1h 40m 8s\n",
      "93:\tlearn: 3.6220549\ttest: 3.4112417\tbest: 3.4112417 (93)\ttotal: 22h 26m 20s\tremaining: 1h 25m 56s\n",
      "94:\tlearn: 3.6180137\ttest: 3.4071427\tbest: 3.4071427 (94)\ttotal: 22h 41m 23s\tremaining: 1h 11m 39s\n",
      "95:\tlearn: 3.6087297\ttest: 3.3967816\tbest: 3.3967816 (95)\ttotal: 22h 56m 12s\tremaining: 57m 20s\n",
      "96:\tlearn: 3.6048480\ttest: 3.3933577\tbest: 3.3933577 (96)\ttotal: 23h 10m 42s\tremaining: 43m\n",
      "97:\tlearn: 3.5954441\ttest: 3.3832122\tbest: 3.3832122 (97)\ttotal: 23h 25m\tremaining: 28m 40s\n",
      "98:\tlearn: 3.5925879\ttest: 3.3803904\tbest: 3.3803904 (98)\ttotal: 23h 39m 17s\tremaining: 14m 20s\n",
      "99:\tlearn: 3.5871365\ttest: 3.3751521\tbest: 3.3751521 (99)\ttotal: 23h 53m 19s\tremaining: 0us\n",
      "\n",
      "bestTest = 3.375152064\n",
      "bestIteration = 99\n",
      "\n"
     ]
    },
    {
     "data": {
      "text/plain": [
       "<catboost.core.CatBoostClassifier at 0x1183c59b970>"
      ]
     },
     "execution_count": 359,
     "metadata": {},
     "output_type": "execute_result"
    }
   ],
   "source": [
    "# Fit model#\n",
    "\n",
    "model_full.fit(train_dataset,\n",
    "          eval_set=eval_dataset,\n",
    "          logging_level='Verbose',\n",
    "          plot=True\n",
    "          )\n"
   ]
  },
  {
   "cell_type": "markdown",
   "id": "e3669e5c",
   "metadata": {},
   "source": [
    "Обучение заняло сутки, но результаты весьма хороши. Большее кол-во данных благоприятно влияет на модель\n",
    "Посмотрим, какая фича оказалась наиболее полезной ?"
   ]
  },
  {
   "cell_type": "code",
   "execution_count": 361,
   "id": "c517ed2e",
   "metadata": {},
   "outputs": [],
   "source": [
    "# Сохраним модель на всякий случай\n",
    "file_name = \"model_cat_full_data\"\n",
    "model_full.save_model(fname=f'ke_test_data/{file_name}',\n",
    "                 format=\"cbm\",)"
   ]
  },
  {
   "cell_type": "code",
   "execution_count": 394,
   "id": "c4a24278",
   "metadata": {},
   "outputs": [
    {
     "data": {
      "text/html": [
       "<div>\n",
       "<style scoped>\n",
       "    .dataframe tbody tr th:only-of-type {\n",
       "        vertical-align: middle;\n",
       "    }\n",
       "\n",
       "    .dataframe tbody tr th {\n",
       "        vertical-align: top;\n",
       "    }\n",
       "\n",
       "    .dataframe thead th {\n",
       "        text-align: right;\n",
       "    }\n",
       "</style>\n",
       "<table border=\"1\" class=\"dataframe\">\n",
       "  <thead>\n",
       "    <tr style=\"text-align: right;\">\n",
       "      <th></th>\n",
       "      <th>Feature Id</th>\n",
       "      <th>Importances</th>\n",
       "    </tr>\n",
       "  </thead>\n",
       "  <tbody>\n",
       "    <tr>\n",
       "      <th>0</th>\n",
       "      <td>title</td>\n",
       "      <td>100.0</td>\n",
       "    </tr>\n",
       "    <tr>\n",
       "      <th>1</th>\n",
       "      <td>short_description</td>\n",
       "      <td>0.0</td>\n",
       "    </tr>\n",
       "    <tr>\n",
       "      <th>2</th>\n",
       "      <td>name_value_characteristics</td>\n",
       "      <td>0.0</td>\n",
       "    </tr>\n",
       "    <tr>\n",
       "      <th>3</th>\n",
       "      <td>rating</td>\n",
       "      <td>0.0</td>\n",
       "    </tr>\n",
       "    <tr>\n",
       "      <th>4</th>\n",
       "      <td>feedback_quantity</td>\n",
       "      <td>0.0</td>\n",
       "    </tr>\n",
       "  </tbody>\n",
       "</table>\n",
       "</div>"
      ],
      "text/plain": [
       "                   Feature Id  Importances\n",
       "0                       title        100.0\n",
       "1           short_description          0.0\n",
       "2  name_value_characteristics          0.0\n",
       "3                      rating          0.0\n",
       "4           feedback_quantity          0.0"
      ]
     },
     "execution_count": 394,
     "metadata": {},
     "output_type": "execute_result"
    }
   ],
   "source": [
    "# Самым полезным оказалось название, все остальное было проигнорировано. Значит другая модель обработки естественного языка тут будет кстати\n",
    "model_full.get_feature_importance(prettified=True)"
   ]
  },
  {
   "cell_type": "code",
   "execution_count": 363,
   "id": "c8887ebe",
   "metadata": {},
   "outputs": [],
   "source": [
    "# Расчитаем метрику на всём датасете\n",
    "train, test = train_test_split(df, test_size=0.99) \n",
    "\n",
    "y_test = test[\"category_id\"]\n",
    "x_test = test.drop(columns=[\"id\",\"category_id\"])\n",
    "\n",
    "text_features = [0, 1, 2]  # Название, описание, размеры\n",
    "eval_dataset = Pool(data=x_test,\n",
    "                    label=y_test,\n",
    "                    text_features=text_features)\n",
    "\n",
    "preds_class = model_full.predict(eval_dataset) # Предскажем тестового датасета"
   ]
  },
  {
   "cell_type": "code",
   "execution_count": 367,
   "id": "8022598b",
   "metadata": {},
   "outputs": [
    {
     "name": "stdout",
     "output_type": "stream",
     "text": [
      "f1_score for predicted: 0.49211736299909414\n",
      "f1_score for parents level_1: 0.5627870865539822\n",
      "f1_score for parents level_2: 0.6204780768617958\n",
      "f1_score for parents level_3: 0.7198579376470868\n",
      "f1_score for parents level_4: 0.8875820245256695\n",
      "f1_score for parents level_5: 0.9827886054497198\n"
     ]
    }
   ],
   "source": [
    "# f1 calculate для решения и родителей\n",
    "from sklearn.metrics import f1_score\n",
    "\n",
    "aver = 'weighted'\n",
    "print(f'f1_score for predicted: {f1_score(y_test, preds_class, average=aver)}')\n",
    "\n",
    "# Точность для уровня 1 :\n",
    "y_test_level1 = parent(id_n=y_test, level=1)\n",
    "preds_class_level1 = parent(id_n=preds_class, level=1)\n",
    "print(f'f1_score for parents level_1: {f1_score(y_test_level1, preds_class_level1, average=aver)}')\n",
    "\n",
    "# Точность для уровня 2 :\n",
    "y_test_level2 = parent(id_n=y_test_level1, level=1)\n",
    "preds_class_level2 = parent(id_n=preds_class_level1, level=1)\n",
    "print(f'f1_score for parents level_2: {f1_score(y_test_level2, preds_class_level2, average=aver)}')\n",
    "\n",
    "# Точность для уровня 3 :\n",
    "y_test_level3 = parent(id_n=y_test_level2, level=1)\n",
    "preds_class_level3 = parent(id_n=preds_class_level2, level=1)\n",
    "print(f'f1_score for parents level_3: {f1_score(y_test_level3, preds_class_level3, average=aver)}')\n",
    "\n",
    "# Точность для уровня 4 :\n",
    "y_test_level4 = parent(id_n=y_test_level3, level=1)\n",
    "preds_class_level4 = parent(id_n=preds_class_level3, level=1)\n",
    "print(f'f1_score for parents level_4: {f1_score(y_test_level4, preds_class_level4, average=aver)}')\n",
    "\n",
    "# Точность для уровня 5 :\n",
    "y_test_level5 = parent(id_n=y_test_level4, level=1)\n",
    "preds_class_level5 = parent(id_n=preds_class_level4, level=1)\n",
    "print(f'f1_score for parents level_5: {f1_score(y_test_level5, preds_class_level5, average=aver)}')"
   ]
  },
  {
   "cell_type": "markdown",
   "id": "78117524",
   "metadata": {},
   "source": [
    "# Записываем ответы"
   ]
  },
  {
   "cell_type": "code",
   "execution_count": 373,
   "id": "ac56a92c",
   "metadata": {},
   "outputs": [
    {
     "name": "stdout",
     "output_type": "stream",
     "text": [
      "<class 'pandas.core.frame.DataFrame'>\n",
      "RangeIndex: 70864 entries, 0 to 70863\n",
      "Data columns (total 6 columns):\n",
      " #   Column                      Non-Null Count  Dtype  \n",
      "---  ------                      --------------  -----  \n",
      " 0   id                          70864 non-null  int64  \n",
      " 1   title                       70864 non-null  object \n",
      " 2   short_description           33346 non-null  object \n",
      " 3   name_value_characteristics  12576 non-null  object \n",
      " 4   rating                      70864 non-null  float64\n",
      " 5   feedback_quantity           70864 non-null  int64  \n",
      "dtypes: float64(1), int64(2), object(3)\n",
      "memory usage: 3.2+ MB\n"
     ]
    }
   ],
   "source": [
    "# Посмотрим проверочный датасет\n",
    "file_name = 'test.parquet'\n",
    "df_test = pd.read_parquet(f'ke_test_data/{file_name}')\n",
    "df.info()"
   ]
  },
  {
   "cell_type": "code",
   "execution_count": 375,
   "id": "c80a64d0",
   "metadata": {},
   "outputs": [],
   "source": [
    "# Заполним пропуски\n",
    "df_test.short_description.fillna(\"\", inplace=True);\n",
    "df_test.name_value_characteristics.fillna(\"\", inplace=True);\n",
    "\n",
    "# Предскажем значения\n",
    "x_test = df_test.drop(columns=[\"id\"])\n",
    "\n",
    "text_features = [0, 1, 2]  # Название, описание, размеры\n",
    "eval_dataset = Pool(data=x_test,\n",
    "                    text_features=text_features)\n",
    "\n",
    "preds_test_class = model_full.predict(eval_dataset) # Предскажем проверочного датасета"
   ]
  },
  {
   "cell_type": "code",
   "execution_count": 389,
   "id": "ee5ae047",
   "metadata": {},
   "outputs": [
    {
     "data": {
      "text/html": [
       "<div>\n",
       "<style scoped>\n",
       "    .dataframe tbody tr th:only-of-type {\n",
       "        vertical-align: middle;\n",
       "    }\n",
       "\n",
       "    .dataframe tbody tr th {\n",
       "        vertical-align: top;\n",
       "    }\n",
       "\n",
       "    .dataframe thead th {\n",
       "        text-align: right;\n",
       "    }\n",
       "</style>\n",
       "<table border=\"1\" class=\"dataframe\">\n",
       "  <thead>\n",
       "    <tr style=\"text-align: right;\">\n",
       "      <th></th>\n",
       "      <th>id</th>\n",
       "      <th>predicted_category_id</th>\n",
       "    </tr>\n",
       "  </thead>\n",
       "  <tbody>\n",
       "    <tr>\n",
       "      <th>0</th>\n",
       "      <td>1070974</td>\n",
       "      <td>11574</td>\n",
       "    </tr>\n",
       "    <tr>\n",
       "      <th>1</th>\n",
       "      <td>450413</td>\n",
       "      <td>11878</td>\n",
       "    </tr>\n",
       "    <tr>\n",
       "      <th>2</th>\n",
       "      <td>126857</td>\n",
       "      <td>2803</td>\n",
       "    </tr>\n",
       "    <tr>\n",
       "      <th>3</th>\n",
       "      <td>1577569</td>\n",
       "      <td>13061</td>\n",
       "    </tr>\n",
       "    <tr>\n",
       "      <th>4</th>\n",
       "      <td>869328</td>\n",
       "      <td>13061</td>\n",
       "    </tr>\n",
       "  </tbody>\n",
       "</table>\n",
       "</div>"
      ],
      "text/plain": [
       "        id  predicted_category_id\n",
       "0  1070974                  11574\n",
       "1   450413                  11878\n",
       "2   126857                   2803\n",
       "3  1577569                  13061\n",
       "4   869328                  13061"
      ]
     },
     "execution_count": 389,
     "metadata": {},
     "output_type": "execute_result"
    }
   ],
   "source": [
    "preds_test_class = np.squeeze(preds_test_class) # Понизим размерность ответов с 2 до 1 \n",
    "d = {'id': df_test.id, 'predicted_category_id': preds_test_class}\n",
    "df_test_answered = pd.DataFrame(data=d) # Запишим в датасет ответы\n",
    "df_test_answered.head()"
   ]
  },
  {
   "cell_type": "code",
   "execution_count": 397,
   "id": "fd0f28fe",
   "metadata": {},
   "outputs": [],
   "source": [
    "# Запишем ответы в файл\n",
    "file_name = \"result.parquet\"\n",
    "df_test_answered.to_parquet(f'ke_test_data/{file_name}') "
   ]
  },
  {
   "cell_type": "code",
   "execution_count": 398,
   "id": "ccf2e05e",
   "metadata": {},
   "outputs": [
    {
     "data": {
      "text/html": [
       "<div>\n",
       "<style scoped>\n",
       "    .dataframe tbody tr th:only-of-type {\n",
       "        vertical-align: middle;\n",
       "    }\n",
       "\n",
       "    .dataframe tbody tr th {\n",
       "        vertical-align: top;\n",
       "    }\n",
       "\n",
       "    .dataframe thead th {\n",
       "        text-align: right;\n",
       "    }\n",
       "</style>\n",
       "<table border=\"1\" class=\"dataframe\">\n",
       "  <thead>\n",
       "    <tr style=\"text-align: right;\">\n",
       "      <th></th>\n",
       "      <th>id</th>\n",
       "      <th>predicted_category_id</th>\n",
       "    </tr>\n",
       "  </thead>\n",
       "  <tbody>\n",
       "    <tr>\n",
       "      <th>0</th>\n",
       "      <td>1070974</td>\n",
       "      <td>11574</td>\n",
       "    </tr>\n",
       "    <tr>\n",
       "      <th>1</th>\n",
       "      <td>450413</td>\n",
       "      <td>11878</td>\n",
       "    </tr>\n",
       "    <tr>\n",
       "      <th>2</th>\n",
       "      <td>126857</td>\n",
       "      <td>2803</td>\n",
       "    </tr>\n",
       "    <tr>\n",
       "      <th>3</th>\n",
       "      <td>1577569</td>\n",
       "      <td>13061</td>\n",
       "    </tr>\n",
       "    <tr>\n",
       "      <th>4</th>\n",
       "      <td>869328</td>\n",
       "      <td>13061</td>\n",
       "    </tr>\n",
       "  </tbody>\n",
       "</table>\n",
       "</div>"
      ],
      "text/plain": [
       "        id  predicted_category_id\n",
       "0  1070974                  11574\n",
       "1   450413                  11878\n",
       "2   126857                   2803\n",
       "3  1577569                  13061\n",
       "4   869328                  13061"
      ]
     },
     "execution_count": 398,
     "metadata": {},
     "output_type": "execute_result"
    }
   ],
   "source": [
    "try_test = pd.read_parquet(f'ke_test_data/{file_name}')\n",
    "try_test.head()"
   ]
  },
  {
   "cell_type": "code",
   "execution_count": null,
   "id": "eaf09da2",
   "metadata": {},
   "outputs": [],
   "source": []
  }
 ],
 "metadata": {
  "kernelspec": {
   "display_name": "Python 3 (ipykernel)",
   "language": "python",
   "name": "python3"
  },
  "language_info": {
   "codemirror_mode": {
    "name": "ipython",
    "version": 3
   },
   "file_extension": ".py",
   "mimetype": "text/x-python",
   "name": "python",
   "nbconvert_exporter": "python",
   "pygments_lexer": "ipython3",
   "version": "3.8.13"
  }
 },
 "nbformat": 4,
 "nbformat_minor": 5
}
